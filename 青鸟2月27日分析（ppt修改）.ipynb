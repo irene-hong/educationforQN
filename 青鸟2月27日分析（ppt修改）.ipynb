{
 "cells": [
  {
   "cell_type": "code",
   "execution_count": 1,
   "metadata": {},
   "outputs": [],
   "source": [
    "import MySQLdb\n",
    "conn = MySQLdb.connect(host='127.0.0.1', port=3306, user='root', passwd='123', db='edm', charset='utf8')\n",
    "import pandas as pd\n",
    "import numpy as np\n",
    "from pandas import Series, DataFrame\n",
    "import pandas.io.sql as sql"
   ]
  },
  {
   "cell_type": "markdown",
   "metadata": {},
   "source": [
    "## 试卷-技能点数"
   ]
  },
  {
   "cell_type": "code",
   "execution_count": 5,
   "metadata": {},
   "outputs": [],
   "source": [
    "data = sql.read_sql(\"select S.skill_point_id, S.paper_id from self_test_logs S, valid_students V where S.type=2 and S.user_id=V.uid\", conn)"
   ]
  },
  {
   "cell_type": "code",
   "execution_count": 6,
   "metadata": {},
   "outputs": [
    {
     "data": {
      "text/html": [
       "<div>\n",
       "<style scoped>\n",
       "    .dataframe tbody tr th:only-of-type {\n",
       "        vertical-align: middle;\n",
       "    }\n",
       "\n",
       "    .dataframe tbody tr th {\n",
       "        vertical-align: top;\n",
       "    }\n",
       "\n",
       "    .dataframe thead th {\n",
       "        text-align: right;\n",
       "    }\n",
       "</style>\n",
       "<table border=\"1\" class=\"dataframe\">\n",
       "  <thead>\n",
       "    <tr style=\"text-align: right;\">\n",
       "      <th></th>\n",
       "      <th>skill_point_id</th>\n",
       "      <th>paper_id</th>\n",
       "    </tr>\n",
       "  </thead>\n",
       "  <tbody>\n",
       "    <tr>\n",
       "      <th>0</th>\n",
       "      <td>171</td>\n",
       "      <td>240</td>\n",
       "    </tr>\n",
       "    <tr>\n",
       "      <th>1</th>\n",
       "      <td>16019</td>\n",
       "      <td>240</td>\n",
       "    </tr>\n",
       "    <tr>\n",
       "      <th>2</th>\n",
       "      <td>169</td>\n",
       "      <td>240</td>\n",
       "    </tr>\n",
       "    <tr>\n",
       "      <th>3</th>\n",
       "      <td>16020</td>\n",
       "      <td>240</td>\n",
       "    </tr>\n",
       "    <tr>\n",
       "      <th>4</th>\n",
       "      <td>13543</td>\n",
       "      <td>240</td>\n",
       "    </tr>\n",
       "  </tbody>\n",
       "</table>\n",
       "</div>"
      ],
      "text/plain": [
       "  skill_point_id  paper_id\n",
       "0            171       240\n",
       "1          16019       240\n",
       "2            169       240\n",
       "3          16020       240\n",
       "4          13543       240"
      ]
     },
     "execution_count": 6,
     "metadata": {},
     "output_type": "execute_result"
    }
   ],
   "source": [
    "data.head()"
   ]
  },
  {
   "cell_type": "code",
   "execution_count": 44,
   "metadata": {},
   "outputs": [
    {
     "data": {
      "text/plain": [
       "(8092, 2)"
      ]
     },
     "execution_count": 44,
     "metadata": {},
     "output_type": "execute_result"
    }
   ],
   "source": [
    "data.shape"
   ]
  },
  {
   "cell_type": "code",
   "execution_count": 53,
   "metadata": {},
   "outputs": [],
   "source": [
    "data = data.drop_duplicates()  "
   ]
  },
  {
   "cell_type": "code",
   "execution_count": 54,
   "metadata": {},
   "outputs": [
    {
     "data": {
      "text/plain": [
       "(8048, 2)"
      ]
     },
     "execution_count": 54,
     "metadata": {},
     "output_type": "execute_result"
    }
   ],
   "source": [
    "data2.shape"
   ]
  },
  {
   "cell_type": "code",
   "execution_count": null,
   "metadata": {},
   "outputs": [],
   "source": []
  },
  {
   "cell_type": "code",
   "execution_count": 55,
   "metadata": {},
   "outputs": [],
   "source": [
    "grouped = data['skill_point_id'].groupby(data['paper_id'])\n",
    "data2 = grouped.count()"
   ]
  },
  {
   "cell_type": "code",
   "execution_count": 8,
   "metadata": {},
   "outputs": [],
   "source": [
    "import matplotlib.pyplot as plt"
   ]
  },
  {
   "cell_type": "code",
   "execution_count": 57,
   "metadata": {
    "scrolled": true
   },
   "outputs": [
    {
     "data": {
      "text/plain": [
       "Text(0,0.5,'number of skill_points covered')"
      ]
     },
     "execution_count": 57,
     "metadata": {},
     "output_type": "execute_result"
    },
    {
     "data": {
      "image/png": "[encoded data removed]",
      "text/plain": [
       "<matplotlib.figure.Figure at 0x1ad170576a0>"
      ]
     },
     "metadata": {},
     "output_type": "display_data"
    }
   ],
   "source": [
    "%matplotlib inline\n",
    "\n",
    "plt.figure(figsize=(15,10))\n",
    "plt.scatter(data2.index, data2.loc[data2.index], s=10, marker='*')\n",
    "plt.xlabel(\"paper_id\")\n",
    "plt.ylabel(\"number of skill_points covered\")"
   ]
  },
  {
   "cell_type": "code",
   "execution_count": 58,
   "metadata": {
    "scrolled": true
   },
   "outputs": [
    {
     "data": {
      "text/plain": [
       "paper_id\n",
       "358     17\n",
       "417     17\n",
       "298     17\n",
       "296     17\n",
       "294     17\n",
       "292     17\n",
       "291     17\n",
       "389     17\n",
       "399     17\n",
       "283     17\n",
       "282     17\n",
       "281     17\n",
       "276     17\n",
       "400     17\n",
       "269     17\n",
       "267     17\n",
       "265     17\n",
       "406     17\n",
       "259     17\n",
       "340     17\n",
       "257     17\n",
       "299     17\n",
       "373     17\n",
       "300     17\n",
       "314     17\n",
       "344     17\n",
       "345     17\n",
       "347     17\n",
       "320     17\n",
       "319     17\n",
       "        ..\n",
       "463      1\n",
       "3495     1\n",
       "444      1\n",
       "3432     1\n",
       "6507     1\n",
       "388      1\n",
       "2996     1\n",
       "3560     1\n",
       "289      1\n",
       "285      1\n",
       "3678     1\n",
       "3803     1\n",
       "3799     1\n",
       "244      1\n",
       "4769     1\n",
       "2447     1\n",
       "2448     1\n",
       "2452     1\n",
       "3736     1\n",
       "3629     1\n",
       "3600     1\n",
       "3179     1\n",
       "5010     1\n",
       "7245     1\n",
       "5015     1\n",
       "5560     1\n",
       "3627     1\n",
       "5718     1\n",
       "3174     1\n",
       "3983     1\n",
       "Name: skill_point_id, Length: 1326, dtype: int64"
      ]
     },
     "execution_count": 58,
     "metadata": {},
     "output_type": "execute_result"
    }
   ],
   "source": [
    "data2 = data2.sort_values(ascending=False)\n",
    "data2"
   ]
  },
  {
   "cell_type": "code",
   "execution_count": 68,
   "metadata": {},
   "outputs": [],
   "source": [
    "data3 = data2.value_counts()\n",
    "data3 = data3.sort_index()"
   ]
  },
  {
   "cell_type": "code",
   "execution_count": 73,
   "metadata": {},
   "outputs": [
    {
     "data": {
      "text/plain": [
       "1      76\n",
       "2     122\n",
       "3     218\n",
       "4     159\n",
       "5     244\n",
       "6      15\n",
       "7     130\n",
       "8      65\n",
       "9      29\n",
       "10     76\n",
       "11     94\n",
       "16     23\n",
       "17     75\n",
       "Name: skill_point_id, dtype: int64"
      ]
     },
     "execution_count": 73,
     "metadata": {},
     "output_type": "execute_result"
    }
   ],
   "source": [
    "data3"
   ]
  },
  {
   "cell_type": "code",
   "execution_count": 78,
   "metadata": {},
   "outputs": [
    {
     "data": {
      "image/png": "[encoded data removed]",
      "text/plain": [
       "<matplotlib.figure.Figure at 0x1ad191f80f0>"
      ]
     },
     "metadata": {},
     "output_type": "display_data"
    }
   ],
   "source": [
    "#data3.plot(kind='bar')\n",
    "plt.figure(figsize=(10,7))\n",
    "x = data3.index\n",
    "y = data3\n",
    "plt.bar(x,y)\n",
    "my_x_ticks = np.arange(1, 18, 1)\n",
    "plt.xticks(my_x_ticks)\n",
    "plt.xlabel(\"Number of skill points covered\")\n",
    "plt.ylabel(\"Number of papers\")\n",
    "for a,b in zip(x,y):\n",
    "    plt.text(a, b+0.05, '%.0f' % b, ha='center', va='bottom')"
   ]
  },
  {
   "cell_type": "markdown",
   "metadata": {},
   "source": [
    "## 岗位标签-试卷数"
   ]
  },
  {
   "cell_type": "code",
   "execution_count": 2,
   "metadata": {},
   "outputs": [],
   "source": [
    "data4 = sql.read_sql(\"select distinct tag_name, tag_target_id, S.id from job_tag_skill_relations J, skill_point S where tag_target_id like 'Md%' and S.mid = J.tag_target_id  order by tag_target_id\", conn)"
   ]
  },
  {
   "cell_type": "code",
   "execution_count": 3,
   "metadata": {},
   "outputs": [
    {
     "data": {
      "text/html": [
       "<div>\n",
       "<style scoped>\n",
       "    .dataframe tbody tr th:only-of-type {\n",
       "        vertical-align: middle;\n",
       "    }\n",
       "\n",
       "    .dataframe tbody tr th {\n",
       "        vertical-align: top;\n",
       "    }\n",
       "\n",
       "    .dataframe thead th {\n",
       "        text-align: right;\n",
       "    }\n",
       "</style>\n",
       "<table border=\"1\" class=\"dataframe\">\n",
       "  <thead>\n",
       "    <tr style=\"text-align: right;\">\n",
       "      <th></th>\n",
       "      <th>tag_name</th>\n",
       "      <th>tag_target_id</th>\n",
       "      <th>id</th>\n",
       "    </tr>\n",
       "  </thead>\n",
       "  <tbody>\n",
       "    <tr>\n",
       "      <th>0</th>\n",
       "      <td>html</td>\n",
       "      <td>Md01</td>\n",
       "      <td>NewH1</td>\n",
       "    </tr>\n",
       "    <tr>\n",
       "      <th>1</th>\n",
       "      <td>html</td>\n",
       "      <td>Md01</td>\n",
       "      <td>NewH6</td>\n",
       "    </tr>\n",
       "    <tr>\n",
       "      <th>2</th>\n",
       "      <td>html</td>\n",
       "      <td>Md01</td>\n",
       "      <td>H18</td>\n",
       "    </tr>\n",
       "    <tr>\n",
       "      <th>3</th>\n",
       "      <td>html</td>\n",
       "      <td>Md01</td>\n",
       "      <td>H2</td>\n",
       "    </tr>\n",
       "    <tr>\n",
       "      <th>4</th>\n",
       "      <td>html</td>\n",
       "      <td>Md01</td>\n",
       "      <td>H7</td>\n",
       "    </tr>\n",
       "  </tbody>\n",
       "</table>\n",
       "</div>"
      ],
      "text/plain": [
       "  tag_name tag_target_id     id\n",
       "0     html          Md01  NewH1\n",
       "1     html          Md01  NewH6\n",
       "2     html          Md01    H18\n",
       "3     html          Md01     H2\n",
       "4     html          Md01     H7"
      ]
     },
     "execution_count": 3,
     "metadata": {},
     "output_type": "execute_result"
    }
   ],
   "source": [
    "data4.head()"
   ]
  },
  {
   "cell_type": "code",
   "execution_count": 4,
   "metadata": {},
   "outputs": [],
   "source": [
    "data5 = data4['id'].groupby(data4['tag_name']).count()"
   ]
  },
  {
   "cell_type": "code",
   "execution_count": 5,
   "metadata": {},
   "outputs": [
    {
     "data": {
      "text/plain": [
       "tag_name\n",
       "php           145\n",
       "javascript     49\n",
       "css            37\n",
       "html5          36\n",
       "html           32\n",
       "vuejs          27\n",
       "bootstrap      27\n",
       "angularjs      26\n",
       "移动端            21\n",
       "css3           20\n",
       "版本控制           18\n",
       "jquery          1\n",
       "Name: id, dtype: int64"
      ]
     },
     "execution_count": 5,
     "metadata": {},
     "output_type": "execute_result"
    }
   ],
   "source": [
    "data5 = data5.sort_values(ascending=False)\n",
    "data5"
   ]
  },
  {
   "cell_type": "code",
   "execution_count": 6,
   "metadata": {},
   "outputs": [
    {
     "data": {
      "text/plain": [
       "array([ 0,  1,  2,  3,  4,  5,  6,  7,  8,  9, 10, 11])"
      ]
     },
     "execution_count": 6,
     "metadata": {},
     "output_type": "execute_result"
    }
   ],
   "source": [
    "c = np.arange(12)\n",
    "c"
   ]
  },
  {
   "cell_type": "code",
   "execution_count": 34,
   "metadata": {},
   "outputs": [
    {
     "data": {
      "image/png": "[encoded data removed]",
      "text/plain": [
       "<matplotlib.figure.Figure at 0x1994eb5f470>"
      ]
     },
     "metadata": {},
     "output_type": "display_data"
    }
   ],
   "source": [
    "plt.figure(figsize=(12,8))\n",
    "plt.rcParams['font.sans-serif']=['SimHei']\n",
    "data5.plot(kind='bar', fontsize=12)\n",
    "x = data5.index\n",
    "y = data5\n",
    "c = np.arange(12)\n",
    "plt.xticks(rotation=0)\n",
    "plt.xlabel(\"Tag\")\n",
    "plt.ylabel(\"Number of skill points\")\n",
    "for a,b in zip(c,y):\n",
    "    plt.text(a, b+0.05, '%.0f' % b, ha='center', va='bottom',fontsize=14)"
   ]
  },
  {
   "cell_type": "markdown",
   "metadata": {},
   "source": [
    "## 岗位标签-试卷数"
   ]
  },
  {
   "cell_type": "code",
   "execution_count": 20,
   "metadata": {},
   "outputs": [],
   "source": [
    "data6 = sql.read_sql(\"SELECT distinct S.id as block_id, name as block_name, mid, tag_name, Q.paper_id  FROM (select tag_name, tag_target_id from job_tag_skill_relations) J, (select mid, name, id from skill_block)S, self_test_history Q where S.mid=J.tag_target_id and Q.block_id=S.id and Q.type=2\" , conn)"
   ]
  },
  {
   "cell_type": "code",
   "execution_count": 21,
   "metadata": {},
   "outputs": [
    {
     "data": {
      "text/html": [
       "<div>\n",
       "<style scoped>\n",
       "    .dataframe tbody tr th:only-of-type {\n",
       "        vertical-align: middle;\n",
       "    }\n",
       "\n",
       "    .dataframe tbody tr th {\n",
       "        vertical-align: top;\n",
       "    }\n",
       "\n",
       "    .dataframe thead th {\n",
       "        text-align: right;\n",
       "    }\n",
       "</style>\n",
       "<table border=\"1\" class=\"dataframe\">\n",
       "  <thead>\n",
       "    <tr style=\"text-align: right;\">\n",
       "      <th></th>\n",
       "      <th>block_id</th>\n",
       "      <th>block_name</th>\n",
       "      <th>mid</th>\n",
       "      <th>tag_name</th>\n",
       "      <th>paper_id</th>\n",
       "    </tr>\n",
       "  </thead>\n",
       "  <tbody>\n",
       "    <tr>\n",
       "      <th>0</th>\n",
       "      <td>4</td>\n",
       "      <td>超链接</td>\n",
       "      <td>Md01</td>\n",
       "      <td>html</td>\n",
       "      <td>10</td>\n",
       "    </tr>\n",
       "    <tr>\n",
       "      <th>1</th>\n",
       "      <td>1</td>\n",
       "      <td>网页基础</td>\n",
       "      <td>Md01</td>\n",
       "      <td>html</td>\n",
       "      <td>10</td>\n",
       "    </tr>\n",
       "    <tr>\n",
       "      <th>2</th>\n",
       "      <td>2</td>\n",
       "      <td>HTML基本语法</td>\n",
       "      <td>Md01</td>\n",
       "      <td>html</td>\n",
       "      <td>10</td>\n",
       "    </tr>\n",
       "    <tr>\n",
       "      <th>3</th>\n",
       "      <td>3</td>\n",
       "      <td>图像标签</td>\n",
       "      <td>Md01</td>\n",
       "      <td>html</td>\n",
       "      <td>10</td>\n",
       "    </tr>\n",
       "    <tr>\n",
       "      <th>4</th>\n",
       "      <td>11</td>\n",
       "      <td>CSS基本选择器</td>\n",
       "      <td>Md02</td>\n",
       "      <td>css</td>\n",
       "      <td>11</td>\n",
       "    </tr>\n",
       "  </tbody>\n",
       "</table>\n",
       "</div>"
      ],
      "text/plain": [
       "   block_id block_name   mid tag_name  paper_id\n",
       "0         4        超链接  Md01     html        10\n",
       "1         1       网页基础  Md01     html        10\n",
       "2         2   HTML基本语法  Md01     html        10\n",
       "3         3       图像标签  Md01     html        10\n",
       "4        11   CSS基本选择器  Md02      css        11"
      ]
     },
     "execution_count": 21,
     "metadata": {},
     "output_type": "execute_result"
    }
   ],
   "source": [
    "data6.head()"
   ]
  },
  {
   "cell_type": "code",
   "execution_count": 22,
   "metadata": {},
   "outputs": [
    {
     "data": {
      "text/plain": [
       "(2692, 2)"
      ]
     },
     "execution_count": 22,
     "metadata": {},
     "output_type": "execute_result"
    }
   ],
   "source": [
    "data7 = data6.iloc[:, -2:]\n",
    "data7.shape"
   ]
  },
  {
   "cell_type": "code",
   "execution_count": 23,
   "metadata": {},
   "outputs": [
    {
     "data": {
      "text/html": [
       "<div>\n",
       "<style scoped>\n",
       "    .dataframe tbody tr th:only-of-type {\n",
       "        vertical-align: middle;\n",
       "    }\n",
       "\n",
       "    .dataframe tbody tr th {\n",
       "        vertical-align: top;\n",
       "    }\n",
       "\n",
       "    .dataframe thead th {\n",
       "        text-align: right;\n",
       "    }\n",
       "</style>\n",
       "<table border=\"1\" class=\"dataframe\">\n",
       "  <thead>\n",
       "    <tr style=\"text-align: right;\">\n",
       "      <th></th>\n",
       "      <th>tag_name</th>\n",
       "      <th>paper_id</th>\n",
       "    </tr>\n",
       "  </thead>\n",
       "  <tbody>\n",
       "    <tr>\n",
       "      <th>0</th>\n",
       "      <td>html</td>\n",
       "      <td>10</td>\n",
       "    </tr>\n",
       "    <tr>\n",
       "      <th>1</th>\n",
       "      <td>html</td>\n",
       "      <td>10</td>\n",
       "    </tr>\n",
       "    <tr>\n",
       "      <th>2</th>\n",
       "      <td>html</td>\n",
       "      <td>10</td>\n",
       "    </tr>\n",
       "    <tr>\n",
       "      <th>3</th>\n",
       "      <td>html</td>\n",
       "      <td>10</td>\n",
       "    </tr>\n",
       "    <tr>\n",
       "      <th>4</th>\n",
       "      <td>css</td>\n",
       "      <td>11</td>\n",
       "    </tr>\n",
       "  </tbody>\n",
       "</table>\n",
       "</div>"
      ],
      "text/plain": [
       "  tag_name  paper_id\n",
       "0     html        10\n",
       "1     html        10\n",
       "2     html        10\n",
       "3     html        10\n",
       "4      css        11"
      ]
     },
     "execution_count": 23,
     "metadata": {},
     "output_type": "execute_result"
    }
   ],
   "source": [
    "data7.head()"
   ]
  },
  {
   "cell_type": "code",
   "execution_count": 24,
   "metadata": {},
   "outputs": [],
   "source": [
    "data7 = data7.drop_duplicates()  "
   ]
  },
  {
   "cell_type": "code",
   "execution_count": 25,
   "metadata": {},
   "outputs": [
    {
     "data": {
      "text/html": [
       "<div>\n",
       "<style scoped>\n",
       "    .dataframe tbody tr th:only-of-type {\n",
       "        vertical-align: middle;\n",
       "    }\n",
       "\n",
       "    .dataframe tbody tr th {\n",
       "        vertical-align: top;\n",
       "    }\n",
       "\n",
       "    .dataframe thead th {\n",
       "        text-align: right;\n",
       "    }\n",
       "</style>\n",
       "<table border=\"1\" class=\"dataframe\">\n",
       "  <thead>\n",
       "    <tr style=\"text-align: right;\">\n",
       "      <th></th>\n",
       "      <th>tag_name</th>\n",
       "      <th>paper_id</th>\n",
       "    </tr>\n",
       "  </thead>\n",
       "  <tbody>\n",
       "    <tr>\n",
       "      <th>2687</th>\n",
       "      <td>vuejs</td>\n",
       "      <td>9294</td>\n",
       "    </tr>\n",
       "    <tr>\n",
       "      <th>2688</th>\n",
       "      <td>vuejs</td>\n",
       "      <td>9645</td>\n",
       "    </tr>\n",
       "    <tr>\n",
       "      <th>2689</th>\n",
       "      <td>vuejs</td>\n",
       "      <td>9646</td>\n",
       "    </tr>\n",
       "    <tr>\n",
       "      <th>2690</th>\n",
       "      <td>vuejs</td>\n",
       "      <td>10232</td>\n",
       "    </tr>\n",
       "    <tr>\n",
       "      <th>2691</th>\n",
       "      <td>vuejs</td>\n",
       "      <td>10233</td>\n",
       "    </tr>\n",
       "  </tbody>\n",
       "</table>\n",
       "</div>"
      ],
      "text/plain": [
       "     tag_name  paper_id\n",
       "2687    vuejs      9294\n",
       "2688    vuejs      9645\n",
       "2689    vuejs      9646\n",
       "2690    vuejs     10232\n",
       "2691    vuejs     10233"
      ]
     },
     "execution_count": 25,
     "metadata": {},
     "output_type": "execute_result"
    }
   ],
   "source": [
    "data7.tail()"
   ]
  },
  {
   "cell_type": "code",
   "execution_count": 26,
   "metadata": {},
   "outputs": [],
   "source": [
    "data8 = data7['paper_id'].groupby(data7['tag_name']).count()"
   ]
  },
  {
   "cell_type": "code",
   "execution_count": 27,
   "metadata": {},
   "outputs": [
    {
     "data": {
      "text/plain": [
       "tag_name\n",
       "angularjs      54\n",
       "bootstrap      77\n",
       "css           392\n",
       "css3          116\n",
       "html          250\n",
       "html5         128\n",
       "javascript    293\n",
       "jquery        265\n",
       "vuejs         104\n",
       "移动端            64\n",
       "Name: paper_id, dtype: int64"
      ]
     },
     "execution_count": 27,
     "metadata": {},
     "output_type": "execute_result"
    }
   ],
   "source": [
    "data8 #版本控制 php missing!"
   ]
  },
  {
   "cell_type": "code",
   "execution_count": 28,
   "metadata": {},
   "outputs": [],
   "source": [
    "data8 = data8.sort_values(ascending=False)"
   ]
  },
  {
   "cell_type": "code",
   "execution_count": 36,
   "metadata": {},
   "outputs": [
    {
     "data": {
      "text/plain": [
       "(array([0, 1, 2, 3, 4, 5, 6, 7, 8, 9]), <a list of 10 Text xticklabel objects>)"
      ]
     },
     "execution_count": 36,
     "metadata": {},
     "output_type": "execute_result"
    },
    {
     "data": {
      "image/png": "[encoded data removed]",
      "text/plain": [
       "<matplotlib.figure.Figure at 0x1994deeac88>"
      ]
     },
     "metadata": {},
     "output_type": "display_data"
    }
   ],
   "source": [
    "plt.figure(figsize=(12,8))\n",
    "data8.plot(kind='bar',fontsize=14)\n",
    "x = np.arange(10)\n",
    "y = data8\n",
    "for a,b in zip(x,y):\n",
    "    plt.text(a, b+2, '%.0f' % b, ha='center', va='bottom',fontsize=14)\n",
    "plt.xlabel(\"Tag Name\")\n",
    "plt.ylabel(\"Number of Papers\")\n",
    "plt.xticks(rotation=0)"
   ]
  },
  {
   "cell_type": "markdown",
   "metadata": {},
   "source": [
    "## 时间序列展示（做试卷时间戳）"
   ]
  },
  {
   "cell_type": "code",
   "execution_count": 202,
   "metadata": {},
   "outputs": [],
   "source": [
    "data9 = sql.read_sql(\"SELECT r_start, U.uid, V.uname, tid FROM user_events U, valid_students V where type=4 and U.uid=V.uid\", conn)"
   ]
  },
  {
   "cell_type": "code",
   "execution_count": 203,
   "metadata": {},
   "outputs": [
    {
     "data": {
      "text/html": [
       "<div>\n",
       "<style scoped>\n",
       "    .dataframe tbody tr th:only-of-type {\n",
       "        vertical-align: middle;\n",
       "    }\n",
       "\n",
       "    .dataframe tbody tr th {\n",
       "        vertical-align: top;\n",
       "    }\n",
       "\n",
       "    .dataframe thead th {\n",
       "        text-align: right;\n",
       "    }\n",
       "</style>\n",
       "<table border=\"1\" class=\"dataframe\">\n",
       "  <thead>\n",
       "    <tr style=\"text-align: right;\">\n",
       "      <th></th>\n",
       "      <th>r_start</th>\n",
       "      <th>uid</th>\n",
       "      <th>uname</th>\n",
       "      <th>tid</th>\n",
       "    </tr>\n",
       "  </thead>\n",
       "  <tbody>\n",
       "    <tr>\n",
       "      <th>0</th>\n",
       "      <td>2017-06-24 16:39:28</td>\n",
       "      <td>10326738</td>\n",
       "      <td>卞亮亮</td>\n",
       "      <td>exam-course-yk-Android-zjhtmls0101</td>\n",
       "    </tr>\n",
       "    <tr>\n",
       "      <th>1</th>\n",
       "      <td>2017-06-24 20:21:55</td>\n",
       "      <td>10326738</td>\n",
       "      <td>卞亮亮</td>\n",
       "      <td>exam-course-yk-Android-wywy1s0101</td>\n",
       "    </tr>\n",
       "    <tr>\n",
       "      <th>2</th>\n",
       "      <td>2017-06-26 09:10:55</td>\n",
       "      <td>10326738</td>\n",
       "      <td>卞亮亮</td>\n",
       "      <td>exam-course-yk-Android-wywy2s0101</td>\n",
       "    </tr>\n",
       "    <tr>\n",
       "      <th>3</th>\n",
       "      <td>2017-06-26 13:28:59</td>\n",
       "      <td>10326738</td>\n",
       "      <td>卞亮亮</td>\n",
       "      <td>exam-course-yk-Android-wywy3s0101</td>\n",
       "    </tr>\n",
       "    <tr>\n",
       "      <th>4</th>\n",
       "      <td>2017-06-27 09:32:33</td>\n",
       "      <td>10326738</td>\n",
       "      <td>卞亮亮</td>\n",
       "      <td>exam-course-yk-html5-bghbds0101</td>\n",
       "    </tr>\n",
       "  </tbody>\n",
       "</table>\n",
       "</div>"
      ],
      "text/plain": [
       "              r_start       uid uname                                 tid\n",
       "0 2017-06-24 16:39:28  10326738   卞亮亮  exam-course-yk-Android-zjhtmls0101\n",
       "1 2017-06-24 20:21:55  10326738   卞亮亮   exam-course-yk-Android-wywy1s0101\n",
       "2 2017-06-26 09:10:55  10326738   卞亮亮   exam-course-yk-Android-wywy2s0101\n",
       "3 2017-06-26 13:28:59  10326738   卞亮亮   exam-course-yk-Android-wywy3s0101\n",
       "4 2017-06-27 09:32:33  10326738   卞亮亮     exam-course-yk-html5-bghbds0101"
      ]
     },
     "execution_count": 203,
     "metadata": {},
     "output_type": "execute_result"
    }
   ],
   "source": [
    "data9.head()"
   ]
  },
  {
   "cell_type": "code",
   "execution_count": 204,
   "metadata": {},
   "outputs": [
    {
     "data": {
      "text/plain": [
       "(1137, 4)"
      ]
     },
     "execution_count": 204,
     "metadata": {},
     "output_type": "execute_result"
    }
   ],
   "source": [
    "data9.shape"
   ]
  },
  {
   "cell_type": "code",
   "execution_count": 205,
   "metadata": {},
   "outputs": [
    {
     "data": {
      "text/plain": [
       "(1137, 4)"
      ]
     },
     "execution_count": 205,
     "metadata": {},
     "output_type": "execute_result"
    }
   ],
   "source": [
    "data9.drop_duplicates().shape"
   ]
  },
  {
   "cell_type": "code",
   "execution_count": 223,
   "metadata": {},
   "outputs": [
    {
     "data": {
      "text/html": [
       "<div>\n",
       "<style scoped>\n",
       "    .dataframe tbody tr th:only-of-type {\n",
       "        vertical-align: middle;\n",
       "    }\n",
       "\n",
       "    .dataframe tbody tr th {\n",
       "        vertical-align: top;\n",
       "    }\n",
       "\n",
       "    .dataframe thead th {\n",
       "        text-align: right;\n",
       "    }\n",
       "</style>\n",
       "<table border=\"1\" class=\"dataframe\">\n",
       "  <thead>\n",
       "    <tr style=\"text-align: right;\">\n",
       "      <th></th>\n",
       "      <th>r_start</th>\n",
       "      <th>uid</th>\n",
       "      <th>uname</th>\n",
       "      <th>tid</th>\n",
       "      <th>new</th>\n",
       "    </tr>\n",
       "  </thead>\n",
       "  <tbody>\n",
       "    <tr>\n",
       "      <th>0</th>\n",
       "      <td>2017-06-24 16:39:28</td>\n",
       "      <td>10326738</td>\n",
       "      <td>卞亮亮</td>\n",
       "      <td>exam-course-yk-Android-zjhtmls0101</td>\n",
       "      <td>0</td>\n",
       "    </tr>\n",
       "    <tr>\n",
       "      <th>1</th>\n",
       "      <td>2017-06-24 20:21:55</td>\n",
       "      <td>10326738</td>\n",
       "      <td>卞亮亮</td>\n",
       "      <td>exam-course-yk-Android-wywy1s0101</td>\n",
       "      <td>0</td>\n",
       "    </tr>\n",
       "    <tr>\n",
       "      <th>2</th>\n",
       "      <td>2017-06-26 09:10:55</td>\n",
       "      <td>10326738</td>\n",
       "      <td>卞亮亮</td>\n",
       "      <td>exam-course-yk-Android-wywy2s0101</td>\n",
       "      <td>0</td>\n",
       "    </tr>\n",
       "    <tr>\n",
       "      <th>3</th>\n",
       "      <td>2017-06-26 13:28:59</td>\n",
       "      <td>10326738</td>\n",
       "      <td>卞亮亮</td>\n",
       "      <td>exam-course-yk-Android-wywy3s0101</td>\n",
       "      <td>0</td>\n",
       "    </tr>\n",
       "    <tr>\n",
       "      <th>4</th>\n",
       "      <td>2017-06-27 09:32:33</td>\n",
       "      <td>10326738</td>\n",
       "      <td>卞亮亮</td>\n",
       "      <td>exam-course-yk-html5-bghbds0101</td>\n",
       "      <td>0</td>\n",
       "    </tr>\n",
       "  </tbody>\n",
       "</table>\n",
       "</div>"
      ],
      "text/plain": [
       "              r_start       uid uname                                 tid  new\n",
       "0 2017-06-24 16:39:28  10326738   卞亮亮  exam-course-yk-Android-zjhtmls0101    0\n",
       "1 2017-06-24 20:21:55  10326738   卞亮亮   exam-course-yk-Android-wywy1s0101    0\n",
       "2 2017-06-26 09:10:55  10326738   卞亮亮   exam-course-yk-Android-wywy2s0101    0\n",
       "3 2017-06-26 13:28:59  10326738   卞亮亮   exam-course-yk-Android-wywy3s0101    0\n",
       "4 2017-06-27 09:32:33  10326738   卞亮亮     exam-course-yk-html5-bghbds0101    0"
      ]
     },
     "execution_count": 223,
     "metadata": {},
     "output_type": "execute_result"
    }
   ],
   "source": [
    "data9['new'] = 0\n",
    "data9.head()"
   ]
  },
  {
   "cell_type": "code",
   "execution_count": 4,
   "metadata": {},
   "outputs": [],
   "source": [
    "import matplotlib.dates as mdate"
   ]
  },
  {
   "cell_type": "code",
   "execution_count": 199,
   "metadata": {
    "scrolled": true
   },
   "outputs": [
    {
     "data": {
      "text/plain": [
       "<matplotlib.lines.Line2D at 0x1ad1ed0a208>"
      ]
     },
     "execution_count": 199,
     "metadata": {},
     "output_type": "execute_result"
    },
    {
     "data": {
      "image/png": "[encoded data removed]",
      "text/plain": [
       "<matplotlib.figure.Figure at 0x1ad1ec158d0>"
      ]
     },
     "metadata": {},
     "output_type": "display_data"
    }
   ],
   "source": [
    "#plt.figure(figsize=(100,3))\n",
    "\n",
    "fig1 = plt.figure(figsize=(100,3))\n",
    "ax1 = fig1.add_subplot(1,1,1)\n",
    "ax1.xaxis.set_major_formatter(mdate.DateFormatter('%Y-%m-%d'))#设置时间标签显示格式\n",
    "plt.xticks(pd.date_range('2017-06-20','2018-01-15'),rotation=90)\n",
    "plt.rcParams['axes.unicode_minus']=False\n",
    "plt.scatter(data9['r_start'].values, data9['new'].values, marker='|', s=2000)\n",
    "plt.axhline(y=0,color='red')"
   ]
  },
  {
   "cell_type": "markdown",
   "metadata": {},
   "source": [
    "### 单独挑出一个学员做分析"
   ]
  },
  {
   "cell_type": "code",
   "execution_count": 227,
   "metadata": {},
   "outputs": [],
   "source": [
    "data10 = sql.read_sql(\"SELECT r_start, U.uid, V.uname, tid FROM user_events U, valid_students V where type=4 and U.uid=V.uid and V.uname like'郭忠'\", conn)"
   ]
  },
  {
   "cell_type": "code",
   "execution_count": 228,
   "metadata": {},
   "outputs": [
    {
     "data": {
      "text/html": [
       "<div>\n",
       "<style scoped>\n",
       "    .dataframe tbody tr th:only-of-type {\n",
       "        vertical-align: middle;\n",
       "    }\n",
       "\n",
       "    .dataframe tbody tr th {\n",
       "        vertical-align: top;\n",
       "    }\n",
       "\n",
       "    .dataframe thead th {\n",
       "        text-align: right;\n",
       "    }\n",
       "</style>\n",
       "<table border=\"1\" class=\"dataframe\">\n",
       "  <thead>\n",
       "    <tr style=\"text-align: right;\">\n",
       "      <th></th>\n",
       "      <th>r_start</th>\n",
       "      <th>uid</th>\n",
       "      <th>uname</th>\n",
       "      <th>tid</th>\n",
       "      <th>new</th>\n",
       "    </tr>\n",
       "  </thead>\n",
       "  <tbody>\n",
       "    <tr>\n",
       "      <th>0</th>\n",
       "      <td>2017-06-24 10:49:21</td>\n",
       "      <td>10704173</td>\n",
       "      <td>郭忠</td>\n",
       "      <td>exam-course-yk-Android-zjhtmls0101</td>\n",
       "      <td>0</td>\n",
       "    </tr>\n",
       "    <tr>\n",
       "      <th>1</th>\n",
       "      <td>2017-06-26 00:13:21</td>\n",
       "      <td>10704173</td>\n",
       "      <td>郭忠</td>\n",
       "      <td>exam-course-yk-Android-wywy1s0101</td>\n",
       "      <td>0</td>\n",
       "    </tr>\n",
       "    <tr>\n",
       "      <th>2</th>\n",
       "      <td>2017-06-27 08:24:54</td>\n",
       "      <td>10704173</td>\n",
       "      <td>郭忠</td>\n",
       "      <td>exam-course-yk-Android-wywy2s0101</td>\n",
       "      <td>0</td>\n",
       "    </tr>\n",
       "    <tr>\n",
       "      <th>3</th>\n",
       "      <td>2017-06-28 10:09:39</td>\n",
       "      <td>10704173</td>\n",
       "      <td>郭忠</td>\n",
       "      <td>exam-course-yk-Android-wywy3s0101</td>\n",
       "      <td>0</td>\n",
       "    </tr>\n",
       "    <tr>\n",
       "      <th>4</th>\n",
       "      <td>2017-06-29 10:57:36</td>\n",
       "      <td>10704173</td>\n",
       "      <td>郭忠</td>\n",
       "      <td>exam-course-yk-html5-bghbds0101</td>\n",
       "      <td>0</td>\n",
       "    </tr>\n",
       "  </tbody>\n",
       "</table>\n",
       "</div>"
      ],
      "text/plain": [
       "              r_start       uid uname                                 tid  new\n",
       "0 2017-06-24 10:49:21  10704173    郭忠  exam-course-yk-Android-zjhtmls0101    0\n",
       "1 2017-06-26 00:13:21  10704173    郭忠   exam-course-yk-Android-wywy1s0101    0\n",
       "2 2017-06-27 08:24:54  10704173    郭忠   exam-course-yk-Android-wywy2s0101    0\n",
       "3 2017-06-28 10:09:39  10704173    郭忠   exam-course-yk-Android-wywy3s0101    0\n",
       "4 2017-06-29 10:57:36  10704173    郭忠     exam-course-yk-html5-bghbds0101    0"
      ]
     },
     "execution_count": 228,
     "metadata": {},
     "output_type": "execute_result"
    }
   ],
   "source": [
    "data10['new'] = 0\n",
    "data10.head()"
   ]
  },
  {
   "cell_type": "code",
   "execution_count": 229,
   "metadata": {},
   "outputs": [
    {
     "data": {
      "text/plain": [
       "<matplotlib.lines.Line2D at 0x1ad1ed89b70>"
      ]
     },
     "execution_count": 229,
     "metadata": {},
     "output_type": "execute_result"
    },
    {
     "data": {
      "image/png": "[encoded data removed]",
      "text/plain": [
       "<matplotlib.figure.Figure at 0x1ad1eac0320>"
      ]
     },
     "metadata": {},
     "output_type": "display_data"
    }
   ],
   "source": [
    "fig2 = plt.figure(figsize=(100,3))\n",
    "ax2 = fig2.add_subplot(1,1,1)\n",
    "ax2.xaxis.set_major_formatter(mdate.DateFormatter('%Y-%m-%d'))#设置时间标签显示格式\n",
    "plt.xticks(pd.date_range('2017-06-20','2018-01-15'),rotation=90)\n",
    "plt.rcParams['axes.unicode_minus']=False\n",
    "plt.scatter(data10['r_start'].values, data10['new'].values, marker='|', s=2000)\n",
    "plt.axhline(y=0,color='red')"
   ]
  },
  {
   "cell_type": "markdown",
   "metadata": {},
   "source": [
    "## 试卷重复率"
   ]
  },
  {
   "cell_type": "code",
   "execution_count": 235,
   "metadata": {},
   "outputs": [],
   "source": [
    "data11 = sql.read_sql(\"select uname, tid from timeline\", conn)"
   ]
  },
  {
   "cell_type": "code",
   "execution_count": 236,
   "metadata": {},
   "outputs": [
    {
     "data": {
      "text/plain": [
       "(1137, 2)"
      ]
     },
     "execution_count": 236,
     "metadata": {},
     "output_type": "execute_result"
    }
   ],
   "source": [
    "data11.shape"
   ]
  },
  {
   "cell_type": "code",
   "execution_count": 238,
   "metadata": {},
   "outputs": [
    {
     "data": {
      "text/html": [
       "<div>\n",
       "<style scoped>\n",
       "    .dataframe tbody tr th:only-of-type {\n",
       "        vertical-align: middle;\n",
       "    }\n",
       "\n",
       "    .dataframe tbody tr th {\n",
       "        vertical-align: top;\n",
       "    }\n",
       "\n",
       "    .dataframe thead th {\n",
       "        text-align: right;\n",
       "    }\n",
       "</style>\n",
       "<table border=\"1\" class=\"dataframe\">\n",
       "  <thead>\n",
       "    <tr style=\"text-align: right;\">\n",
       "      <th></th>\n",
       "      <th>uname</th>\n",
       "      <th>tid</th>\n",
       "    </tr>\n",
       "  </thead>\n",
       "  <tbody>\n",
       "    <tr>\n",
       "      <th>279</th>\n",
       "      <td>郭鑫鑫</td>\n",
       "      <td>exam-course-yk-js-typescriptgsys0101</td>\n",
       "    </tr>\n",
       "    <tr>\n",
       "      <th>280</th>\n",
       "      <td>郭鑫鑫</td>\n",
       "      <td>exam-course-yk-web-sylwzxmkfs0102</td>\n",
       "    </tr>\n",
       "    <tr>\n",
       "      <th>319</th>\n",
       "      <td>张帅</td>\n",
       "      <td>exam-course-yk-js-typescriptgsys0101</td>\n",
       "    </tr>\n",
       "    <tr>\n",
       "      <th>383</th>\n",
       "      <td>吕佳莹</td>\n",
       "      <td>exam-course-yk-web-fws0101</td>\n",
       "    </tr>\n",
       "    <tr>\n",
       "      <th>384</th>\n",
       "      <td>吕佳莹</td>\n",
       "      <td>exam-course-yk-web-lyzj0101</td>\n",
       "    </tr>\n",
       "  </tbody>\n",
       "</table>\n",
       "</div>"
      ],
      "text/plain": [
       "    uname                                   tid\n",
       "279   郭鑫鑫  exam-course-yk-js-typescriptgsys0101\n",
       "280   郭鑫鑫     exam-course-yk-web-sylwzxmkfs0102\n",
       "319    张帅  exam-course-yk-js-typescriptgsys0101\n",
       "383   吕佳莹            exam-course-yk-web-fws0101\n",
       "384   吕佳莹           exam-course-yk-web-lyzj0101"
      ]
     },
     "execution_count": 238,
     "metadata": {},
     "output_type": "execute_result"
    }
   ],
   "source": [
    "data11[data11.duplicated()]"
   ]
  },
  {
   "cell_type": "markdown",
   "metadata": {},
   "source": [
    "### 以上：用user_events表分析重复率效果不佳"
   ]
  },
  {
   "cell_type": "markdown",
   "metadata": {},
   "source": [
    "### 改用self_test_logs数据"
   ]
  },
  {
   "cell_type": "code",
   "execution_count": 241,
   "metadata": {},
   "outputs": [],
   "source": [
    "data12 = sql.read_sql(\"SELECT V.uid,V.uname, S.skill_point_id, S.skill_point_name, S.paper_id FROM `self_test_logs`S, valid_students V where V.uid=S.user_id and type=2 \", conn)"
   ]
  },
  {
   "cell_type": "code",
   "execution_count": 242,
   "metadata": {},
   "outputs": [
    {
     "data": {
      "text/html": [
       "<div>\n",
       "<style scoped>\n",
       "    .dataframe tbody tr th:only-of-type {\n",
       "        vertical-align: middle;\n",
       "    }\n",
       "\n",
       "    .dataframe tbody tr th {\n",
       "        vertical-align: top;\n",
       "    }\n",
       "\n",
       "    .dataframe thead th {\n",
       "        text-align: right;\n",
       "    }\n",
       "</style>\n",
       "<table border=\"1\" class=\"dataframe\">\n",
       "  <thead>\n",
       "    <tr style=\"text-align: right;\">\n",
       "      <th></th>\n",
       "      <th>uid</th>\n",
       "      <th>uname</th>\n",
       "      <th>skill_point_id</th>\n",
       "      <th>skill_point_name</th>\n",
       "      <th>paper_id</th>\n",
       "    </tr>\n",
       "  </thead>\n",
       "  <tbody>\n",
       "    <tr>\n",
       "      <th>0</th>\n",
       "      <td>10326738</td>\n",
       "      <td>卞亮亮</td>\n",
       "      <td>171</td>\n",
       "      <td>了解网页制作标准（W3C标准）</td>\n",
       "      <td>240</td>\n",
       "    </tr>\n",
       "    <tr>\n",
       "      <th>1</th>\n",
       "      <td>10326738</td>\n",
       "      <td>卞亮亮</td>\n",
       "      <td>16019</td>\n",
       "      <td>掌握相对路径和绝对路径的区别</td>\n",
       "      <td>240</td>\n",
       "    </tr>\n",
       "    <tr>\n",
       "      <th>2</th>\n",
       "      <td>10326738</td>\n",
       "      <td>卞亮亮</td>\n",
       "      <td>169</td>\n",
       "      <td>了解网页构成的基本信息</td>\n",
       "      <td>240</td>\n",
       "    </tr>\n",
       "    <tr>\n",
       "      <th>3</th>\n",
       "      <td>10326738</td>\n",
       "      <td>卞亮亮</td>\n",
       "      <td>16020</td>\n",
       "      <td>掌握功能性链接在网页中的应用</td>\n",
       "      <td>240</td>\n",
       "    </tr>\n",
       "    <tr>\n",
       "      <th>4</th>\n",
       "      <td>10326738</td>\n",
       "      <td>卞亮亮</td>\n",
       "      <td>13543</td>\n",
       "      <td>了解html标记特点及发展历史</td>\n",
       "      <td>240</td>\n",
       "    </tr>\n",
       "  </tbody>\n",
       "</table>\n",
       "</div>"
      ],
      "text/plain": [
       "        uid uname skill_point_id skill_point_name  paper_id\n",
       "0  10326738   卞亮亮            171  了解网页制作标准（W3C标准）       240\n",
       "1  10326738   卞亮亮          16019   掌握相对路径和绝对路径的区别       240\n",
       "2  10326738   卞亮亮            169      了解网页构成的基本信息       240\n",
       "3  10326738   卞亮亮          16020   掌握功能性链接在网页中的应用       240\n",
       "4  10326738   卞亮亮          13543  了解html标记特点及发展历史       240"
      ]
     },
     "execution_count": 242,
     "metadata": {},
     "output_type": "execute_result"
    }
   ],
   "source": [
    "data12.head()"
   ]
  },
  {
   "cell_type": "code",
   "execution_count": 243,
   "metadata": {},
   "outputs": [
    {
     "data": {
      "text/plain": [
       "(8092, 5)"
      ]
     },
     "execution_count": 243,
     "metadata": {},
     "output_type": "execute_result"
    }
   ],
   "source": [
    "data12.shape"
   ]
  },
  {
   "cell_type": "code",
   "execution_count": 271,
   "metadata": {},
   "outputs": [],
   "source": [
    "data13 = data12['paper_id'].groupby([data12['uid'],data12['skill_point_id']]).count()"
   ]
  },
  {
   "cell_type": "code",
   "execution_count": 272,
   "metadata": {},
   "outputs": [
    {
     "data": {
      "text/plain": [
       "uid       skill_point_id\n",
       "10326738  10660             4\n",
       "          10661             4\n",
       "          10662             4\n",
       "          10669             5\n",
       "          10670             5\n",
       "Name: paper_id, dtype: int64"
      ]
     },
     "execution_count": 272,
     "metadata": {},
     "output_type": "execute_result"
    }
   ],
   "source": [
    "data13.head()"
   ]
  },
  {
   "cell_type": "code",
   "execution_count": 273,
   "metadata": {},
   "outputs": [
    {
     "data": {
      "text/plain": [
       "pandas.core.series.Series"
      ]
     },
     "execution_count": 273,
     "metadata": {},
     "output_type": "execute_result"
    }
   ],
   "source": [
    "type(data13)"
   ]
  },
  {
   "cell_type": "code",
   "execution_count": 275,
   "metadata": {},
   "outputs": [],
   "source": [
    "data14 = data13.reset_index()"
   ]
  },
  {
   "cell_type": "code",
   "execution_count": 276,
   "metadata": {},
   "outputs": [
    {
     "data": {
      "text/html": [
       "<div>\n",
       "<style scoped>\n",
       "    .dataframe tbody tr th:only-of-type {\n",
       "        vertical-align: middle;\n",
       "    }\n",
       "\n",
       "    .dataframe tbody tr th {\n",
       "        vertical-align: top;\n",
       "    }\n",
       "\n",
       "    .dataframe thead th {\n",
       "        text-align: right;\n",
       "    }\n",
       "</style>\n",
       "<table border=\"1\" class=\"dataframe\">\n",
       "  <thead>\n",
       "    <tr style=\"text-align: right;\">\n",
       "      <th></th>\n",
       "      <th>uid</th>\n",
       "      <th>skill_point_id</th>\n",
       "      <th>paper_id</th>\n",
       "    </tr>\n",
       "  </thead>\n",
       "  <tbody>\n",
       "    <tr>\n",
       "      <th>0</th>\n",
       "      <td>10326738</td>\n",
       "      <td>10660</td>\n",
       "      <td>4</td>\n",
       "    </tr>\n",
       "    <tr>\n",
       "      <th>1</th>\n",
       "      <td>10326738</td>\n",
       "      <td>10661</td>\n",
       "      <td>4</td>\n",
       "    </tr>\n",
       "    <tr>\n",
       "      <th>2</th>\n",
       "      <td>10326738</td>\n",
       "      <td>10662</td>\n",
       "      <td>4</td>\n",
       "    </tr>\n",
       "    <tr>\n",
       "      <th>3</th>\n",
       "      <td>10326738</td>\n",
       "      <td>10669</td>\n",
       "      <td>5</td>\n",
       "    </tr>\n",
       "    <tr>\n",
       "      <th>4</th>\n",
       "      <td>10326738</td>\n",
       "      <td>10670</td>\n",
       "      <td>5</td>\n",
       "    </tr>\n",
       "  </tbody>\n",
       "</table>\n",
       "</div>"
      ],
      "text/plain": [
       "        uid skill_point_id  paper_id\n",
       "0  10326738          10660         4\n",
       "1  10326738          10661         4\n",
       "2  10326738          10662         4\n",
       "3  10326738          10669         5\n",
       "4  10326738          10670         5"
      ]
     },
     "execution_count": 276,
     "metadata": {},
     "output_type": "execute_result"
    }
   ],
   "source": [
    "data14.head()"
   ]
  },
  {
   "cell_type": "code",
   "execution_count": 280,
   "metadata": {},
   "outputs": [
    {
     "data": {
      "text/plain": [
       "skill_point_id\n",
       "10660    81\n",
       "10661    81\n",
       "10662    81\n",
       "10669    37\n",
       "10670    37\n",
       "Name: paper_id, dtype: int64"
      ]
     },
     "execution_count": 280,
     "metadata": {},
     "output_type": "execute_result"
    }
   ],
   "source": [
    "sum14 = data14['paper_id'].groupby(data14['skill_point_id']).sum()\n",
    "sum14.head()"
   ]
  },
  {
   "cell_type": "code",
   "execution_count": 281,
   "metadata": {},
   "outputs": [
    {
     "data": {
      "text/plain": [
       "skill_point_id\n",
       "10660    14\n",
       "10661    14\n",
       "10662    14\n",
       "10669    14\n",
       "10670    14\n",
       "Name: paper_id, dtype: int64"
      ]
     },
     "execution_count": 281,
     "metadata": {},
     "output_type": "execute_result"
    }
   ],
   "source": [
    "count14 = data14['paper_id'].groupby(data14['skill_point_id']).count()\n",
    "count14.head()"
   ]
  },
  {
   "cell_type": "code",
   "execution_count": 283,
   "metadata": {},
   "outputs": [],
   "source": [
    "repeat = (sum14 - count14)/sum14"
   ]
  },
  {
   "cell_type": "code",
   "execution_count": 288,
   "metadata": {},
   "outputs": [],
   "source": [
    "repeat = repeat.sort_values(ascending=False)"
   ]
  },
  {
   "cell_type": "code",
   "execution_count": 290,
   "metadata": {},
   "outputs": [
    {
     "data": {
      "text/plain": [
       "(226,)"
      ]
     },
     "execution_count": 290,
     "metadata": {},
     "output_type": "execute_result"
    }
   ],
   "source": [
    "repeat.shape"
   ]
  },
  {
   "cell_type": "code",
   "execution_count": 292,
   "metadata": {},
   "outputs": [
    {
     "data": {
      "text/plain": [
       "skill_point_id\n",
       "16127    0.86\n",
       "10711    0.86\n",
       "16158    0.86\n",
       "10712    0.86\n",
       "15592    0.86\n",
       "Name: paper_id, dtype: float64"
      ]
     },
     "execution_count": 292,
     "metadata": {},
     "output_type": "execute_result"
    }
   ],
   "source": [
    "repeat.head()"
   ]
  },
  {
   "cell_type": "code",
   "execution_count": 297,
   "metadata": {},
   "outputs": [
    {
     "data": {
      "text/plain": [
       "0.588235    17\n",
       "0.434783    16\n",
       "0.000000    13\n",
       "0.611111    12\n",
       "0.166667    11\n",
       "Name: paper_id, dtype: int64"
      ]
     },
     "execution_count": 297,
     "metadata": {},
     "output_type": "execute_result"
    }
   ],
   "source": [
    "data15 = repeat.value_counts()\n",
    "data15.head()"
   ]
  },
  {
   "cell_type": "markdown",
   "metadata": {},
   "source": [
    "### 在时间轴的基础上绘制试卷重复率（不会做"
   ]
  },
  {
   "cell_type": "markdown",
   "metadata": {},
   "source": [
    "### 先对repeat进行润色"
   ]
  },
  {
   "cell_type": "code",
   "execution_count": 299,
   "metadata": {},
   "outputs": [
    {
     "data": {
      "text/html": [
       "<div>\n",
       "<style scoped>\n",
       "    .dataframe tbody tr th:only-of-type {\n",
       "        vertical-align: middle;\n",
       "    }\n",
       "\n",
       "    .dataframe tbody tr th {\n",
       "        vertical-align: top;\n",
       "    }\n",
       "\n",
       "    .dataframe thead th {\n",
       "        text-align: right;\n",
       "    }\n",
       "</style>\n",
       "<table border=\"1\" class=\"dataframe\">\n",
       "  <thead>\n",
       "    <tr style=\"text-align: right;\">\n",
       "      <th></th>\n",
       "      <th>skill_point_id</th>\n",
       "      <th>paper_id</th>\n",
       "    </tr>\n",
       "  </thead>\n",
       "  <tbody>\n",
       "    <tr>\n",
       "      <th>0</th>\n",
       "      <td>16127</td>\n",
       "      <td>0.86</td>\n",
       "    </tr>\n",
       "    <tr>\n",
       "      <th>1</th>\n",
       "      <td>10711</td>\n",
       "      <td>0.86</td>\n",
       "    </tr>\n",
       "    <tr>\n",
       "      <th>2</th>\n",
       "      <td>16158</td>\n",
       "      <td>0.86</td>\n",
       "    </tr>\n",
       "    <tr>\n",
       "      <th>3</th>\n",
       "      <td>10712</td>\n",
       "      <td>0.86</td>\n",
       "    </tr>\n",
       "    <tr>\n",
       "      <th>4</th>\n",
       "      <td>15592</td>\n",
       "      <td>0.86</td>\n",
       "    </tr>\n",
       "  </tbody>\n",
       "</table>\n",
       "</div>"
      ],
      "text/plain": [
       "  skill_point_id  paper_id\n",
       "0          16127      0.86\n",
       "1          10711      0.86\n",
       "2          16158      0.86\n",
       "3          10712      0.86\n",
       "4          15592      0.86"
      ]
     },
     "execution_count": 299,
     "metadata": {},
     "output_type": "execute_result"
    }
   ],
   "source": [
    "data16 = repeat.reset_index()\n",
    "data16.head()"
   ]
  },
  {
   "cell_type": "code",
   "execution_count": 310,
   "metadata": {},
   "outputs": [
    {
     "data": {
      "text/plain": [
       "(226, 2)"
      ]
     },
     "execution_count": 310,
     "metadata": {},
     "output_type": "execute_result"
    }
   ],
   "source": [
    "data16.shape"
   ]
  },
  {
   "cell_type": "code",
   "execution_count": 300,
   "metadata": {},
   "outputs": [],
   "source": [
    "data17 = sql.read_sql(\"select ID, NAME, IMPORTANCE from skill_tree\", conn)"
   ]
  },
  {
   "cell_type": "code",
   "execution_count": 304,
   "metadata": {},
   "outputs": [
    {
     "data": {
      "text/html": [
       "<div>\n",
       "<style scoped>\n",
       "    .dataframe tbody tr th:only-of-type {\n",
       "        vertical-align: middle;\n",
       "    }\n",
       "\n",
       "    .dataframe tbody tr th {\n",
       "        vertical-align: top;\n",
       "    }\n",
       "\n",
       "    .dataframe thead th {\n",
       "        text-align: right;\n",
       "    }\n",
       "</style>\n",
       "<table border=\"1\" class=\"dataframe\">\n",
       "  <thead>\n",
       "    <tr style=\"text-align: right;\">\n",
       "      <th></th>\n",
       "      <th>skill_point_id</th>\n",
       "      <th>skill_point</th>\n",
       "      <th>importance</th>\n",
       "    </tr>\n",
       "  </thead>\n",
       "  <tbody>\n",
       "    <tr>\n",
       "      <th>0</th>\n",
       "      <td>10203</td>\n",
       "      <td>Web前端</td>\n",
       "      <td>None</td>\n",
       "    </tr>\n",
       "    <tr>\n",
       "      <th>1</th>\n",
       "      <td>10204</td>\n",
       "      <td>HTML</td>\n",
       "      <td>None</td>\n",
       "    </tr>\n",
       "    <tr>\n",
       "      <th>2</th>\n",
       "      <td>10205</td>\n",
       "      <td>网页基础</td>\n",
       "      <td>None</td>\n",
       "    </tr>\n",
       "    <tr>\n",
       "      <th>3</th>\n",
       "      <td>11810</td>\n",
       "      <td>Dreamweaver基本操作</td>\n",
       "      <td>X</td>\n",
       "    </tr>\n",
       "    <tr>\n",
       "      <th>4</th>\n",
       "      <td>11811</td>\n",
       "      <td>HTML语言简介</td>\n",
       "      <td>X</td>\n",
       "    </tr>\n",
       "  </tbody>\n",
       "</table>\n",
       "</div>"
      ],
      "text/plain": [
       "   skill_point_id      skill_point importance\n",
       "0           10203            Web前端       None\n",
       "1           10204             HTML       None\n",
       "2           10205             网页基础       None\n",
       "3           11810  Dreamweaver基本操作          X\n",
       "4           11811         HTML语言简介          X"
      ]
     },
     "execution_count": 304,
     "metadata": {},
     "output_type": "execute_result"
    }
   ],
   "source": [
    "data17.columns=['skill_point_id', 'skill_point', 'importance']\n",
    "data17.head()"
   ]
  },
  {
   "cell_type": "code",
   "execution_count": 311,
   "metadata": {},
   "outputs": [
    {
     "data": {
      "text/plain": [
       "(830, 3)"
      ]
     },
     "execution_count": 311,
     "metadata": {},
     "output_type": "execute_result"
    }
   ],
   "source": [
    "data17.shape"
   ]
  },
  {
   "cell_type": "code",
   "execution_count": 312,
   "metadata": {},
   "outputs": [
    {
     "data": {
      "text/plain": [
       "(1056, 4)"
      ]
     },
     "execution_count": 312,
     "metadata": {},
     "output_type": "execute_result"
    }
   ],
   "source": [
    "t = pd.merge(data16,data17,how='outer',on='skill_point_id')\n",
    "t.shape #一个都没配上"
   ]
  },
  {
   "cell_type": "code",
   "execution_count": 324,
   "metadata": {},
   "outputs": [
    {
     "data": {
      "text/html": [
       "<div>\n",
       "<style scoped>\n",
       "    .dataframe tbody tr th:only-of-type {\n",
       "        vertical-align: middle;\n",
       "    }\n",
       "\n",
       "    .dataframe tbody tr th {\n",
       "        vertical-align: top;\n",
       "    }\n",
       "\n",
       "    .dataframe thead th {\n",
       "        text-align: right;\n",
       "    }\n",
       "</style>\n",
       "<table border=\"1\" class=\"dataframe\">\n",
       "  <thead>\n",
       "    <tr style=\"text-align: right;\">\n",
       "      <th></th>\n",
       "      <th>skill_point_id</th>\n",
       "      <th>paper_id</th>\n",
       "    </tr>\n",
       "  </thead>\n",
       "  <tbody>\n",
       "    <tr>\n",
       "      <th>0</th>\n",
       "      <td>16127</td>\n",
       "      <td>0.86</td>\n",
       "    </tr>\n",
       "    <tr>\n",
       "      <th>1</th>\n",
       "      <td>10711</td>\n",
       "      <td>0.86</td>\n",
       "    </tr>\n",
       "    <tr>\n",
       "      <th>2</th>\n",
       "      <td>16158</td>\n",
       "      <td>0.86</td>\n",
       "    </tr>\n",
       "    <tr>\n",
       "      <th>3</th>\n",
       "      <td>10712</td>\n",
       "      <td>0.86</td>\n",
       "    </tr>\n",
       "    <tr>\n",
       "      <th>4</th>\n",
       "      <td>15592</td>\n",
       "      <td>0.86</td>\n",
       "    </tr>\n",
       "  </tbody>\n",
       "</table>\n",
       "</div>"
      ],
      "text/plain": [
       "  skill_point_id  paper_id\n",
       "0          16127      0.86\n",
       "1          10711      0.86\n",
       "2          16158      0.86\n",
       "3          10712      0.86\n",
       "4          15592      0.86"
      ]
     },
     "execution_count": 324,
     "metadata": {},
     "output_type": "execute_result"
    }
   ],
   "source": [
    "data16.head()"
   ]
  },
  {
   "cell_type": "code",
   "execution_count": 330,
   "metadata": {},
   "outputs": [],
   "source": [
    "data16['skill_point_id']=data16['skill_point_id'].astype('int')"
   ]
  },
  {
   "cell_type": "code",
   "execution_count": 334,
   "metadata": {},
   "outputs": [
    {
     "data": {
      "text/html": [
       "<div>\n",
       "<style scoped>\n",
       "    .dataframe tbody tr th:only-of-type {\n",
       "        vertical-align: middle;\n",
       "    }\n",
       "\n",
       "    .dataframe tbody tr th {\n",
       "        vertical-align: top;\n",
       "    }\n",
       "\n",
       "    .dataframe thead th {\n",
       "        text-align: right;\n",
       "    }\n",
       "</style>\n",
       "<table border=\"1\" class=\"dataframe\">\n",
       "  <thead>\n",
       "    <tr style=\"text-align: right;\">\n",
       "      <th></th>\n",
       "      <th>skill_point_id</th>\n",
       "      <th>repeating_rate</th>\n",
       "      <th>skill_point</th>\n",
       "      <th>importance</th>\n",
       "    </tr>\n",
       "  </thead>\n",
       "  <tbody>\n",
       "    <tr>\n",
       "      <th>0</th>\n",
       "      <td>16127</td>\n",
       "      <td>0.86</td>\n",
       "      <td>节点属性操作（设置和删除）</td>\n",
       "      <td>X</td>\n",
       "    </tr>\n",
       "    <tr>\n",
       "      <th>1</th>\n",
       "      <td>10711</td>\n",
       "      <td>0.86</td>\n",
       "      <td>节点遍历（子元素、同辈元素、前辈元素）</td>\n",
       "      <td>X</td>\n",
       "    </tr>\n",
       "    <tr>\n",
       "      <th>2</th>\n",
       "      <td>16158</td>\n",
       "      <td>0.86</td>\n",
       "      <td>节点操作（查找、创建、插入、删除、替换和复制）</td>\n",
       "      <td>X</td>\n",
       "    </tr>\n",
       "    <tr>\n",
       "      <th>3</th>\n",
       "      <td>10712</td>\n",
       "      <td>0.86</td>\n",
       "      <td>DOM操作中常用API的用法（综合应用）</td>\n",
       "      <td>X</td>\n",
       "    </tr>\n",
       "    <tr>\n",
       "      <th>4</th>\n",
       "      <td>15592</td>\n",
       "      <td>0.86</td>\n",
       "      <td>jQuery遍历节点的方法</td>\n",
       "      <td>X</td>\n",
       "    </tr>\n",
       "  </tbody>\n",
       "</table>\n",
       "</div>"
      ],
      "text/plain": [
       "   skill_point_id  repeating_rate              skill_point importance\n",
       "0           16127            0.86            节点属性操作（设置和删除）          X\n",
       "1           10711            0.86      节点遍历（子元素、同辈元素、前辈元素）          X\n",
       "2           16158            0.86  节点操作（查找、创建、插入、删除、替换和复制）          X\n",
       "3           10712            0.86     DOM操作中常用API的用法（综合应用）          X\n",
       "4           15592            0.86            jQuery遍历节点的方法          X"
      ]
     },
     "execution_count": 334,
     "metadata": {},
     "output_type": "execute_result"
    }
   ],
   "source": [
    "data18 = pd.merge(data16,data17,on='skill_point_id')\n",
    "data18.columns=['skill_point_id', 'repeating_rate','skill_point', 'importance']\n",
    "data18.head()"
   ]
  },
  {
   "cell_type": "code",
   "execution_count": 349,
   "metadata": {},
   "outputs": [
    {
     "data": {
      "text/plain": [
       "226"
      ]
     },
     "execution_count": 349,
     "metadata": {},
     "output_type": "execute_result"
    }
   ],
   "source": [
    "data18.shape[0]"
   ]
  },
  {
   "cell_type": "code",
   "execution_count": 361,
   "metadata": {},
   "outputs": [
    {
     "data": {
      "text/plain": [
       "<matplotlib.collections.PathCollection at 0x1ad2d60fc88>"
      ]
     },
     "execution_count": 361,
     "metadata": {},
     "output_type": "execute_result"
    },
    {
     "data": {
      "image/png": "[encoded data removed]",
      "text/plain": [
       "<matplotlib.figure.Figure at 0x1ad2c8c3208>"
      ]
     },
     "metadata": {},
     "output_type": "display_data"
    }
   ],
   "source": [
    "plt.figure(figsize=(20,10))\n",
    "plt.scatter(np.arange(data18.shape[0]),data18['repeating_rate'], s=5)"
   ]
  },
  {
   "cell_type": "markdown",
   "metadata": {},
   "source": [
    "- 试着加入时间序列（以skill_tree为学习顺序参考）"
   ]
  },
  {
   "cell_type": "code",
   "execution_count": 363,
   "metadata": {},
   "outputs": [],
   "source": [
    "skill_points = sql.read_sql(\"select code, id as skill_point_id from skill_tree order by code\", conn)"
   ]
  },
  {
   "cell_type": "code",
   "execution_count": 364,
   "metadata": {},
   "outputs": [
    {
     "data": {
      "text/html": [
       "<div>\n",
       "<style scoped>\n",
       "    .dataframe tbody tr th:only-of-type {\n",
       "        vertical-align: middle;\n",
       "    }\n",
       "\n",
       "    .dataframe tbody tr th {\n",
       "        vertical-align: top;\n",
       "    }\n",
       "\n",
       "    .dataframe thead th {\n",
       "        text-align: right;\n",
       "    }\n",
       "</style>\n",
       "<table border=\"1\" class=\"dataframe\">\n",
       "  <thead>\n",
       "    <tr style=\"text-align: right;\">\n",
       "      <th></th>\n",
       "      <th>code</th>\n",
       "      <th>skill_point_id</th>\n",
       "    </tr>\n",
       "  </thead>\n",
       "  <tbody>\n",
       "    <tr>\n",
       "      <th>0</th>\n",
       "      <td>10000-10203</td>\n",
       "      <td>10203</td>\n",
       "    </tr>\n",
       "    <tr>\n",
       "      <th>1</th>\n",
       "      <td>10000-10203-10204</td>\n",
       "      <td>10204</td>\n",
       "    </tr>\n",
       "    <tr>\n",
       "      <th>2</th>\n",
       "      <td>10000-10203-10204-10205</td>\n",
       "      <td>10205</td>\n",
       "    </tr>\n",
       "    <tr>\n",
       "      <th>3</th>\n",
       "      <td>10000-10203-10204-10205-11810</td>\n",
       "      <td>11810</td>\n",
       "    </tr>\n",
       "    <tr>\n",
       "      <th>4</th>\n",
       "      <td>10000-10203-10204-10205-11811</td>\n",
       "      <td>11811</td>\n",
       "    </tr>\n",
       "  </tbody>\n",
       "</table>\n",
       "</div>"
      ],
      "text/plain": [
       "                            code  skill_point_id\n",
       "0                    10000-10203           10203\n",
       "1              10000-10203-10204           10204\n",
       "2        10000-10203-10204-10205           10205\n",
       "3  10000-10203-10204-10205-11810           11810\n",
       "4  10000-10203-10204-10205-11811           11811"
      ]
     },
     "execution_count": 364,
     "metadata": {},
     "output_type": "execute_result"
    }
   ],
   "source": [
    "skill_points.head()"
   ]
  },
  {
   "cell_type": "code",
   "execution_count": 367,
   "metadata": {},
   "outputs": [],
   "source": [
    "data20 = pd.merge(data18, skill_points, on='skill_point_id')"
   ]
  },
  {
   "cell_type": "code",
   "execution_count": 368,
   "metadata": {},
   "outputs": [
    {
     "data": {
      "text/html": [
       "<div>\n",
       "<style scoped>\n",
       "    .dataframe tbody tr th:only-of-type {\n",
       "        vertical-align: middle;\n",
       "    }\n",
       "\n",
       "    .dataframe tbody tr th {\n",
       "        vertical-align: top;\n",
       "    }\n",
       "\n",
       "    .dataframe thead th {\n",
       "        text-align: right;\n",
       "    }\n",
       "</style>\n",
       "<table border=\"1\" class=\"dataframe\">\n",
       "  <thead>\n",
       "    <tr style=\"text-align: right;\">\n",
       "      <th></th>\n",
       "      <th>skill_point_id</th>\n",
       "      <th>repeating_rate</th>\n",
       "      <th>skill_point</th>\n",
       "      <th>importance</th>\n",
       "      <th>code</th>\n",
       "    </tr>\n",
       "  </thead>\n",
       "  <tbody>\n",
       "    <tr>\n",
       "      <th>11</th>\n",
       "      <td>13542</td>\n",
       "      <td>0.858586</td>\n",
       "      <td>了解html基本概念</td>\n",
       "      <td>X</td>\n",
       "      <td>10000-10203-10204-10205-13542</td>\n",
       "    </tr>\n",
       "    <tr>\n",
       "      <th>8</th>\n",
       "      <td>13543</td>\n",
       "      <td>0.858586</td>\n",
       "      <td>了解html标记特点及发展历史</td>\n",
       "      <td>X</td>\n",
       "      <td>10000-10203-10204-10205-13543</td>\n",
       "    </tr>\n",
       "    <tr>\n",
       "      <th>10</th>\n",
       "      <td>169</td>\n",
       "      <td>0.858586</td>\n",
       "      <td>了解网页构成的基本信息</td>\n",
       "      <td>X</td>\n",
       "      <td>10000-10203-10204-10205-169</td>\n",
       "    </tr>\n",
       "    <tr>\n",
       "      <th>7</th>\n",
       "      <td>170</td>\n",
       "      <td>0.858586</td>\n",
       "      <td>了解网页的基本结构</td>\n",
       "      <td>X</td>\n",
       "      <td>10000-10203-10204-10205-170</td>\n",
       "    </tr>\n",
       "    <tr>\n",
       "      <th>9</th>\n",
       "      <td>171</td>\n",
       "      <td>0.858586</td>\n",
       "      <td>了解网页制作标准（W3C标准）</td>\n",
       "      <td>Y</td>\n",
       "      <td>10000-10203-10204-10205-171</td>\n",
       "    </tr>\n",
       "    <tr>\n",
       "      <th>19</th>\n",
       "      <td>16006</td>\n",
       "      <td>0.852273</td>\n",
       "      <td>掌握标题标签的使用</td>\n",
       "      <td>X</td>\n",
       "      <td>10000-10203-10204-10209-16006</td>\n",
       "    </tr>\n",
       "    <tr>\n",
       "      <th>16</th>\n",
       "      <td>16007</td>\n",
       "      <td>0.852273</td>\n",
       "      <td>掌握段落标签的使用</td>\n",
       "      <td>X</td>\n",
       "      <td>10000-10203-10204-10209-16007</td>\n",
       "    </tr>\n",
       "    <tr>\n",
       "      <th>17</th>\n",
       "      <td>16008</td>\n",
       "      <td>0.852273</td>\n",
       "      <td>掌握换行标签的使用</td>\n",
       "      <td>X</td>\n",
       "      <td>10000-10203-10204-10209-16008</td>\n",
       "    </tr>\n",
       "    <tr>\n",
       "      <th>15</th>\n",
       "      <td>16009</td>\n",
       "      <td>0.852273</td>\n",
       "      <td>掌握水平线标签的使用</td>\n",
       "      <td>X</td>\n",
       "      <td>10000-10203-10204-10209-16009</td>\n",
       "    </tr>\n",
       "    <tr>\n",
       "      <th>18</th>\n",
       "      <td>16011</td>\n",
       "      <td>0.852273</td>\n",
       "      <td>掌握HTML注释和特殊字符的使用</td>\n",
       "      <td>X</td>\n",
       "      <td>10000-10203-10204-10209-16011</td>\n",
       "    </tr>\n",
       "    <tr>\n",
       "      <th>13</th>\n",
       "      <td>16012</td>\n",
       "      <td>0.852273</td>\n",
       "      <td>掌握块级元素和内联元素在网页中的应用</td>\n",
       "      <td>X</td>\n",
       "      <td>10000-10203-10204-10209-16012</td>\n",
       "    </tr>\n",
       "    <tr>\n",
       "      <th>14</th>\n",
       "      <td>172</td>\n",
       "      <td>0.852273</td>\n",
       "      <td>熟悉HTML基本标签的分类</td>\n",
       "      <td>X</td>\n",
       "      <td>10000-10203-10204-10209-172</td>\n",
       "    </tr>\n",
       "    <tr>\n",
       "      <th>114</th>\n",
       "      <td>11816</td>\n",
       "      <td>0.575758</td>\n",
       "      <td>只读与禁用</td>\n",
       "      <td>Y</td>\n",
       "      <td>10000-10203-10204-10222-11816</td>\n",
       "    </tr>\n",
       "    <tr>\n",
       "      <th>112</th>\n",
       "      <td>184</td>\n",
       "      <td>0.575758</td>\n",
       "      <td>理解表单的作用</td>\n",
       "      <td>X</td>\n",
       "      <td>10000-10203-10204-10222-184</td>\n",
       "    </tr>\n",
       "    <tr>\n",
       "      <th>111</th>\n",
       "      <td>185</td>\n",
       "      <td>0.575758</td>\n",
       "      <td>掌握制作表单标签的使用方法及属性设置</td>\n",
       "      <td>X</td>\n",
       "      <td>10000-10203-10204-10222-185</td>\n",
       "    </tr>\n",
       "    <tr>\n",
       "      <th>116</th>\n",
       "      <td>186</td>\n",
       "      <td>0.575758</td>\n",
       "      <td>熟悉表单元素的构成</td>\n",
       "      <td>X</td>\n",
       "      <td>10000-10203-10204-10222-186</td>\n",
       "    </tr>\n",
       "    <tr>\n",
       "      <th>115</th>\n",
       "      <td>187</td>\n",
       "      <td>0.575758</td>\n",
       "      <td>能够熟练使用表单元素制作表单</td>\n",
       "      <td>X</td>\n",
       "      <td>10000-10203-10204-10222-187</td>\n",
       "    </tr>\n",
       "    <tr>\n",
       "      <th>113</th>\n",
       "      <td>189</td>\n",
       "      <td>0.575758</td>\n",
       "      <td>能够掌握制作语义化表单的方法</td>\n",
       "      <td>X</td>\n",
       "      <td>10000-10203-10204-10222-189</td>\n",
       "    </tr>\n",
       "    <tr>\n",
       "      <th>106</th>\n",
       "      <td>12412</td>\n",
       "      <td>0.588235</td>\n",
       "      <td>理解表格在网页制作中的作用</td>\n",
       "      <td>X</td>\n",
       "      <td>10000-10203-10204-12411-12412</td>\n",
       "    </tr>\n",
       "    <tr>\n",
       "      <th>103</th>\n",
       "      <td>16026</td>\n",
       "      <td>0.588235</td>\n",
       "      <td>熟悉表格的基本结构</td>\n",
       "      <td>Y</td>\n",
       "      <td>10000-10203-10204-12411-16026</td>\n",
       "    </tr>\n",
       "    <tr>\n",
       "      <th>109</th>\n",
       "      <td>16027</td>\n",
       "      <td>0.588235</td>\n",
       "      <td>掌握表格的属性和应用</td>\n",
       "      <td>Y</td>\n",
       "      <td>10000-10203-10204-12411-16027</td>\n",
       "    </tr>\n",
       "    <tr>\n",
       "      <th>159</th>\n",
       "      <td>15491</td>\n",
       "      <td>0.368421</td>\n",
       "      <td>了解移动端开发使用的浏览器</td>\n",
       "      <td>Z</td>\n",
       "      <td>10000-10203-10204-15490-15491</td>\n",
       "    </tr>\n",
       "    <tr>\n",
       "      <th>160</th>\n",
       "      <td>15493</td>\n",
       "      <td>0.368421</td>\n",
       "      <td>了解移动端的三种视口</td>\n",
       "      <td>Z</td>\n",
       "      <td>10000-10203-10204-15492-15493</td>\n",
       "    </tr>\n",
       "    <tr>\n",
       "      <th>12</th>\n",
       "      <td>16015</td>\n",
       "      <td>0.853933</td>\n",
       "      <td>掌握图像标签的属性和使用方法</td>\n",
       "      <td>X</td>\n",
       "      <td>10000-10203-10204-16013-16015</td>\n",
       "    </tr>\n",
       "    <tr>\n",
       "      <th>21</th>\n",
       "      <td>16017</td>\n",
       "      <td>0.845238</td>\n",
       "      <td>掌握超链接的基本语法</td>\n",
       "      <td>X</td>\n",
       "      <td>10000-10203-10204-16016-16017</td>\n",
       "    </tr>\n",
       "    <tr>\n",
       "      <th>20</th>\n",
       "      <td>16018</td>\n",
       "      <td>0.845238</td>\n",
       "      <td>了解超链接的分类</td>\n",
       "      <td>X</td>\n",
       "      <td>10000-10203-10204-16016-16018</td>\n",
       "    </tr>\n",
       "    <tr>\n",
       "      <th>23</th>\n",
       "      <td>16019</td>\n",
       "      <td>0.845238</td>\n",
       "      <td>掌握相对路径和绝对路径的区别</td>\n",
       "      <td>X</td>\n",
       "      <td>10000-10203-10204-16016-16019</td>\n",
       "    </tr>\n",
       "    <tr>\n",
       "      <th>22</th>\n",
       "      <td>16020</td>\n",
       "      <td>0.845238</td>\n",
       "      <td>掌握功能性链接在网页中的应用</td>\n",
       "      <td>X</td>\n",
       "      <td>10000-10203-10204-16016-16020</td>\n",
       "    </tr>\n",
       "    <tr>\n",
       "      <th>102</th>\n",
       "      <td>16022</td>\n",
       "      <td>0.588235</td>\n",
       "      <td>了解列表的分类</td>\n",
       "      <td>X</td>\n",
       "      <td>10000-10203-10204-16021-16022</td>\n",
       "    </tr>\n",
       "    <tr>\n",
       "      <th>94</th>\n",
       "      <td>16023</td>\n",
       "      <td>0.588235</td>\n",
       "      <td>掌握有序列表的定义方法和使用</td>\n",
       "      <td>X</td>\n",
       "      <td>10000-10203-10204-16021-16023</td>\n",
       "    </tr>\n",
       "    <tr>\n",
       "      <th>...</th>\n",
       "      <td>...</td>\n",
       "      <td>...</td>\n",
       "      <td>...</td>\n",
       "      <td>...</td>\n",
       "      <td>...</td>\n",
       "    </tr>\n",
       "    <tr>\n",
       "      <th>202</th>\n",
       "      <td>17193</td>\n",
       "      <td>0.166667</td>\n",
       "      <td>局部组件</td>\n",
       "      <td>X</td>\n",
       "      <td>10000-10203-17155-17187-17193</td>\n",
       "    </tr>\n",
       "    <tr>\n",
       "      <th>200</th>\n",
       "      <td>17195</td>\n",
       "      <td>0.166667</td>\n",
       "      <td>props选项</td>\n",
       "      <td>X</td>\n",
       "      <td>10000-10203-17155-17187-17195</td>\n",
       "    </tr>\n",
       "    <tr>\n",
       "      <th>198</th>\n",
       "      <td>17199</td>\n",
       "      <td>0.166667</td>\n",
       "      <td>slot槽口</td>\n",
       "      <td>X</td>\n",
       "      <td>10000-10203-17155-17187-17199</td>\n",
       "    </tr>\n",
       "    <tr>\n",
       "      <th>193</th>\n",
       "      <td>17201</td>\n",
       "      <td>0.166667</td>\n",
       "      <td>父子组件</td>\n",
       "      <td>X</td>\n",
       "      <td>10000-10203-17155-17187-17201</td>\n",
       "    </tr>\n",
       "    <tr>\n",
       "      <th>197</th>\n",
       "      <td>17203</td>\n",
       "      <td>0.166667</td>\n",
       "      <td>自定义事件</td>\n",
       "      <td>X</td>\n",
       "      <td>10000-10203-17155-17187-17203</td>\n",
       "    </tr>\n",
       "    <tr>\n",
       "      <th>215</th>\n",
       "      <td>17207</td>\n",
       "      <td>0.000000</td>\n",
       "      <td>node+webpack项目环境配置</td>\n",
       "      <td>Y</td>\n",
       "      <td>10000-10203-17155-17205-17207</td>\n",
       "    </tr>\n",
       "    <tr>\n",
       "      <th>214</th>\n",
       "      <td>17209</td>\n",
       "      <td>0.000000</td>\n",
       "      <td>单文件组件</td>\n",
       "      <td>Y</td>\n",
       "      <td>10000-10203-17155-17205-17209</td>\n",
       "    </tr>\n",
       "    <tr>\n",
       "      <th>45</th>\n",
       "      <td>17213</td>\n",
       "      <td>0.750000</td>\n",
       "      <td>路由的概述</td>\n",
       "      <td>Y</td>\n",
       "      <td>10000-10203-17155-17211-17213</td>\n",
       "    </tr>\n",
       "    <tr>\n",
       "      <th>43</th>\n",
       "      <td>17215</td>\n",
       "      <td>0.750000</td>\n",
       "      <td>一级路由配置</td>\n",
       "      <td>Y</td>\n",
       "      <td>10000-10203-17155-17211-17215</td>\n",
       "    </tr>\n",
       "    <tr>\n",
       "      <th>44</th>\n",
       "      <td>17219</td>\n",
       "      <td>0.750000</td>\n",
       "      <td>二级路由配置</td>\n",
       "      <td>Y</td>\n",
       "      <td>10000-10203-17155-17211-17219</td>\n",
       "    </tr>\n",
       "    <tr>\n",
       "      <th>219</th>\n",
       "      <td>17229</td>\n",
       "      <td>0.000000</td>\n",
       "      <td>angular2概述</td>\n",
       "      <td>Y</td>\n",
       "      <td>10000-10203-17225-17227-17229</td>\n",
       "    </tr>\n",
       "    <tr>\n",
       "      <th>224</th>\n",
       "      <td>17231</td>\n",
       "      <td>0.000000</td>\n",
       "      <td>typescript基础</td>\n",
       "      <td>Y</td>\n",
       "      <td>10000-10203-17225-17227-17231</td>\n",
       "    </tr>\n",
       "    <tr>\n",
       "      <th>124</th>\n",
       "      <td>17235</td>\n",
       "      <td>0.500000</td>\n",
       "      <td>常量</td>\n",
       "      <td>Y</td>\n",
       "      <td>10000-10203-17225-17233-17235</td>\n",
       "    </tr>\n",
       "    <tr>\n",
       "      <th>122</th>\n",
       "      <td>17237</td>\n",
       "      <td>0.500000</td>\n",
       "      <td>解构</td>\n",
       "      <td>Y</td>\n",
       "      <td>10000-10203-17225-17233-17237</td>\n",
       "    </tr>\n",
       "    <tr>\n",
       "      <th>120</th>\n",
       "      <td>17239</td>\n",
       "      <td>0.500000</td>\n",
       "      <td>函数</td>\n",
       "      <td>X</td>\n",
       "      <td>10000-10203-17225-17233-17239</td>\n",
       "    </tr>\n",
       "    <tr>\n",
       "      <th>201</th>\n",
       "      <td>17253</td>\n",
       "      <td>0.166667</td>\n",
       "      <td>webpack</td>\n",
       "      <td>X</td>\n",
       "      <td>10000-10203-17225-17251-17253</td>\n",
       "    </tr>\n",
       "    <tr>\n",
       "      <th>195</th>\n",
       "      <td>17255</td>\n",
       "      <td>0.166667</td>\n",
       "      <td>装饰器</td>\n",
       "      <td>X</td>\n",
       "      <td>10000-10203-17225-17251-17255</td>\n",
       "    </tr>\n",
       "    <tr>\n",
       "      <th>194</th>\n",
       "      <td>17257</td>\n",
       "      <td>0.166667</td>\n",
       "      <td>导入导出</td>\n",
       "      <td>X</td>\n",
       "      <td>10000-10203-17225-17251-17257</td>\n",
       "    </tr>\n",
       "    <tr>\n",
       "      <th>196</th>\n",
       "      <td>17259</td>\n",
       "      <td>0.166667</td>\n",
       "      <td>接口</td>\n",
       "      <td>X</td>\n",
       "      <td>10000-10203-17225-17251-17259</td>\n",
       "    </tr>\n",
       "    <tr>\n",
       "      <th>186</th>\n",
       "      <td>17263</td>\n",
       "      <td>0.200000</td>\n",
       "      <td>cli概述</td>\n",
       "      <td>X</td>\n",
       "      <td>10000-10203-17225-17261-17263</td>\n",
       "    </tr>\n",
       "    <tr>\n",
       "      <th>179</th>\n",
       "      <td>17265</td>\n",
       "      <td>0.200000</td>\n",
       "      <td>ng2环境搭建</td>\n",
       "      <td>X</td>\n",
       "      <td>10000-10203-17225-17261-17265</td>\n",
       "    </tr>\n",
       "    <tr>\n",
       "      <th>182</th>\n",
       "      <td>17267</td>\n",
       "      <td>0.200000</td>\n",
       "      <td>ng2常用内容介绍</td>\n",
       "      <td>X</td>\n",
       "      <td>10000-10203-17225-17261-17267</td>\n",
       "    </tr>\n",
       "    <tr>\n",
       "      <th>207</th>\n",
       "      <td>17271</td>\n",
       "      <td>0.142857</td>\n",
       "      <td>路由</td>\n",
       "      <td>X</td>\n",
       "      <td>10000-10203-17225-17269-17271</td>\n",
       "    </tr>\n",
       "    <tr>\n",
       "      <th>204</th>\n",
       "      <td>17273</td>\n",
       "      <td>0.142857</td>\n",
       "      <td>组件</td>\n",
       "      <td>X</td>\n",
       "      <td>10000-10203-17225-17269-17273</td>\n",
       "    </tr>\n",
       "    <tr>\n",
       "      <th>206</th>\n",
       "      <td>17275</td>\n",
       "      <td>0.142857</td>\n",
       "      <td>常用指令</td>\n",
       "      <td>X</td>\n",
       "      <td>10000-10203-17225-17269-17275</td>\n",
       "    </tr>\n",
       "    <tr>\n",
       "      <th>168</th>\n",
       "      <td>17279</td>\n",
       "      <td>0.333333</td>\n",
       "      <td>服务概述</td>\n",
       "      <td>Y</td>\n",
       "      <td>10000-10203-17225-17277-17279</td>\n",
       "    </tr>\n",
       "    <tr>\n",
       "      <th>164</th>\n",
       "      <td>17281</td>\n",
       "      <td>0.333333</td>\n",
       "      <td>自定义服务</td>\n",
       "      <td>Y</td>\n",
       "      <td>10000-10203-17225-17277-17281</td>\n",
       "    </tr>\n",
       "    <tr>\n",
       "      <th>166</th>\n",
       "      <td>17283</td>\n",
       "      <td>0.333333</td>\n",
       "      <td>http服务</td>\n",
       "      <td>Y</td>\n",
       "      <td>10000-10203-17225-17277-17283</td>\n",
       "    </tr>\n",
       "    <tr>\n",
       "      <th>107</th>\n",
       "      <td>17287</td>\n",
       "      <td>0.588235</td>\n",
       "      <td>jquery的使用</td>\n",
       "      <td>Y</td>\n",
       "      <td>10000-10203-17225-17285-17287</td>\n",
       "    </tr>\n",
       "    <tr>\n",
       "      <th>108</th>\n",
       "      <td>17289</td>\n",
       "      <td>0.588235</td>\n",
       "      <td>iscroll的使用</td>\n",
       "      <td>Y</td>\n",
       "      <td>10000-10203-17225-17285-17289</td>\n",
       "    </tr>\n",
       "  </tbody>\n",
       "</table>\n",
       "<p>226 rows × 5 columns</p>\n",
       "</div>"
      ],
      "text/plain": [
       "     skill_point_id  repeating_rate         skill_point importance  \\\n",
       "11            13542        0.858586          了解html基本概念          X   \n",
       "8             13543        0.858586     了解html标记特点及发展历史          X   \n",
       "10              169        0.858586         了解网页构成的基本信息          X   \n",
       "7               170        0.858586           了解网页的基本结构          X   \n",
       "9               171        0.858586     了解网页制作标准（W3C标准）          Y   \n",
       "19            16006        0.852273           掌握标题标签的使用          X   \n",
       "16            16007        0.852273           掌握段落标签的使用          X   \n",
       "17            16008        0.852273           掌握换行标签的使用          X   \n",
       "15            16009        0.852273          掌握水平线标签的使用          X   \n",
       "18            16011        0.852273    掌握HTML注释和特殊字符的使用          X   \n",
       "13            16012        0.852273  掌握块级元素和内联元素在网页中的应用          X   \n",
       "14              172        0.852273       熟悉HTML基本标签的分类          X   \n",
       "114           11816        0.575758               只读与禁用          Y   \n",
       "112             184        0.575758             理解表单的作用          X   \n",
       "111             185        0.575758  掌握制作表单标签的使用方法及属性设置          X   \n",
       "116             186        0.575758           熟悉表单元素的构成          X   \n",
       "115             187        0.575758      能够熟练使用表单元素制作表单          X   \n",
       "113             189        0.575758      能够掌握制作语义化表单的方法          X   \n",
       "106           12412        0.588235       理解表格在网页制作中的作用          X   \n",
       "103           16026        0.588235           熟悉表格的基本结构          Y   \n",
       "109           16027        0.588235          掌握表格的属性和应用          Y   \n",
       "159           15491        0.368421       了解移动端开发使用的浏览器          Z   \n",
       "160           15493        0.368421          了解移动端的三种视口          Z   \n",
       "12            16015        0.853933      掌握图像标签的属性和使用方法          X   \n",
       "21            16017        0.845238          掌握超链接的基本语法          X   \n",
       "20            16018        0.845238            了解超链接的分类          X   \n",
       "23            16019        0.845238      掌握相对路径和绝对路径的区别          X   \n",
       "22            16020        0.845238      掌握功能性链接在网页中的应用          X   \n",
       "102           16022        0.588235             了解列表的分类          X   \n",
       "94            16023        0.588235      掌握有序列表的定义方法和使用          X   \n",
       "..              ...             ...                 ...        ...   \n",
       "202           17193        0.166667                局部组件          X   \n",
       "200           17195        0.166667             props选项          X   \n",
       "198           17199        0.166667              slot槽口          X   \n",
       "193           17201        0.166667                父子组件          X   \n",
       "197           17203        0.166667               自定义事件          X   \n",
       "215           17207        0.000000  node+webpack项目环境配置          Y   \n",
       "214           17209        0.000000               单文件组件          Y   \n",
       "45            17213        0.750000               路由的概述          Y   \n",
       "43            17215        0.750000              一级路由配置          Y   \n",
       "44            17219        0.750000              二级路由配置          Y   \n",
       "219           17229        0.000000          angular2概述          Y   \n",
       "224           17231        0.000000        typescript基础          Y   \n",
       "124           17235        0.500000                  常量          Y   \n",
       "122           17237        0.500000                  解构          Y   \n",
       "120           17239        0.500000                  函数          X   \n",
       "201           17253        0.166667             webpack          X   \n",
       "195           17255        0.166667                 装饰器          X   \n",
       "194           17257        0.166667                导入导出          X   \n",
       "196           17259        0.166667                  接口          X   \n",
       "186           17263        0.200000               cli概述          X   \n",
       "179           17265        0.200000             ng2环境搭建          X   \n",
       "182           17267        0.200000           ng2常用内容介绍          X   \n",
       "207           17271        0.142857                  路由          X   \n",
       "204           17273        0.142857                  组件          X   \n",
       "206           17275        0.142857                常用指令          X   \n",
       "168           17279        0.333333                服务概述          Y   \n",
       "164           17281        0.333333               自定义服务          Y   \n",
       "166           17283        0.333333              http服务          Y   \n",
       "107           17287        0.588235           jquery的使用          Y   \n",
       "108           17289        0.588235          iscroll的使用          Y   \n",
       "\n",
       "                              code  \n",
       "11   10000-10203-10204-10205-13542  \n",
       "8    10000-10203-10204-10205-13543  \n",
       "10     10000-10203-10204-10205-169  \n",
       "7      10000-10203-10204-10205-170  \n",
       "9      10000-10203-10204-10205-171  \n",
       "19   10000-10203-10204-10209-16006  \n",
       "16   10000-10203-10204-10209-16007  \n",
       "17   10000-10203-10204-10209-16008  \n",
       "15   10000-10203-10204-10209-16009  \n",
       "18   10000-10203-10204-10209-16011  \n",
       "13   10000-10203-10204-10209-16012  \n",
       "14     10000-10203-10204-10209-172  \n",
       "114  10000-10203-10204-10222-11816  \n",
       "112    10000-10203-10204-10222-184  \n",
       "111    10000-10203-10204-10222-185  \n",
       "116    10000-10203-10204-10222-186  \n",
       "115    10000-10203-10204-10222-187  \n",
       "113    10000-10203-10204-10222-189  \n",
       "106  10000-10203-10204-12411-12412  \n",
       "103  10000-10203-10204-12411-16026  \n",
       "109  10000-10203-10204-12411-16027  \n",
       "159  10000-10203-10204-15490-15491  \n",
       "160  10000-10203-10204-15492-15493  \n",
       "12   10000-10203-10204-16013-16015  \n",
       "21   10000-10203-10204-16016-16017  \n",
       "20   10000-10203-10204-16016-16018  \n",
       "23   10000-10203-10204-16016-16019  \n",
       "22   10000-10203-10204-16016-16020  \n",
       "102  10000-10203-10204-16021-16022  \n",
       "94   10000-10203-10204-16021-16023  \n",
       "..                             ...  \n",
       "202  10000-10203-17155-17187-17193  \n",
       "200  10000-10203-17155-17187-17195  \n",
       "198  10000-10203-17155-17187-17199  \n",
       "193  10000-10203-17155-17187-17201  \n",
       "197  10000-10203-17155-17187-17203  \n",
       "215  10000-10203-17155-17205-17207  \n",
       "214  10000-10203-17155-17205-17209  \n",
       "45   10000-10203-17155-17211-17213  \n",
       "43   10000-10203-17155-17211-17215  \n",
       "44   10000-10203-17155-17211-17219  \n",
       "219  10000-10203-17225-17227-17229  \n",
       "224  10000-10203-17225-17227-17231  \n",
       "124  10000-10203-17225-17233-17235  \n",
       "122  10000-10203-17225-17233-17237  \n",
       "120  10000-10203-17225-17233-17239  \n",
       "201  10000-10203-17225-17251-17253  \n",
       "195  10000-10203-17225-17251-17255  \n",
       "194  10000-10203-17225-17251-17257  \n",
       "196  10000-10203-17225-17251-17259  \n",
       "186  10000-10203-17225-17261-17263  \n",
       "179  10000-10203-17225-17261-17265  \n",
       "182  10000-10203-17225-17261-17267  \n",
       "207  10000-10203-17225-17269-17271  \n",
       "204  10000-10203-17225-17269-17273  \n",
       "206  10000-10203-17225-17269-17275  \n",
       "168  10000-10203-17225-17277-17279  \n",
       "164  10000-10203-17225-17277-17281  \n",
       "166  10000-10203-17225-17277-17283  \n",
       "107  10000-10203-17225-17285-17287  \n",
       "108  10000-10203-17225-17285-17289  \n",
       "\n",
       "[226 rows x 5 columns]"
      ]
     },
     "execution_count": 368,
     "metadata": {},
     "output_type": "execute_result"
    }
   ],
   "source": [
    "data20.sort_values(by=['code'])"
   ]
  },
  {
   "cell_type": "code",
   "execution_count": null,
   "metadata": {},
   "outputs": [],
   "source": []
  },
  {
   "cell_type": "code",
   "execution_count": 356,
   "metadata": {},
   "outputs": [
    {
     "data": {
      "text/plain": [
       "count    226.000000\n",
       "mean       0.503079\n",
       "std        0.251954\n",
       "min        0.000000\n",
       "25%        0.333333\n",
       "50%        0.575758\n",
       "75%        0.688889\n",
       "max        0.860000\n",
       "Name: repeating_rate, dtype: float64"
      ]
     },
     "execution_count": 356,
     "metadata": {},
     "output_type": "execute_result"
    }
   ],
   "source": [
    "data18['repeating_rate'].describe()"
   ]
  },
  {
   "cell_type": "code",
   "execution_count": 357,
   "metadata": {},
   "outputs": [
    {
     "data": {
      "text/plain": [
       "count    168.000000\n",
       "mean       0.534049\n",
       "std        0.242514\n",
       "min        0.000000\n",
       "25%        0.404605\n",
       "50%        0.588235\n",
       "75%        0.745455\n",
       "max        0.860000\n",
       "Name: repeating_rate, dtype: float64"
      ]
     },
     "execution_count": 357,
     "metadata": {},
     "output_type": "execute_result"
    }
   ],
   "source": [
    "x['repeating_rate'].describe()"
   ]
  },
  {
   "cell_type": "code",
   "execution_count": 359,
   "metadata": {},
   "outputs": [
    {
     "data": {
      "text/plain": [
       "count    44.000000\n",
       "mean      0.395944\n",
       "std       0.275583\n",
       "min       0.000000\n",
       "25%       0.140476\n",
       "50%       0.500000\n",
       "75%       0.588235\n",
       "max       0.858586\n",
       "Name: repeating_rate, dtype: float64"
      ]
     },
     "execution_count": 359,
     "metadata": {},
     "output_type": "execute_result"
    }
   ],
   "source": [
    "y['repeating_rate'].describe()"
   ]
  },
  {
   "cell_type": "code",
   "execution_count": 360,
   "metadata": {},
   "outputs": [
    {
     "data": {
      "text/plain": [
       "count    14.000000\n",
       "mean      0.468153\n",
       "std       0.198555\n",
       "min       0.200000\n",
       "25%       0.333333\n",
       "50%       0.392544\n",
       "75%       0.611111\n",
       "max       0.784615\n",
       "Name: repeating_rate, dtype: float64"
      ]
     },
     "execution_count": 360,
     "metadata": {},
     "output_type": "execute_result"
    }
   ],
   "source": [
    "z['repeating_rate'].describe()"
   ]
  },
  {
   "cell_type": "code",
   "execution_count": 355,
   "metadata": {},
   "outputs": [
    {
     "data": {
      "image/png": "[encoded data removed]",
      "text/plain": [
       "<matplotlib.figure.Figure at 0x1ad21b8c860>"
      ]
     },
     "metadata": {},
     "output_type": "display_data"
    }
   ],
   "source": [
    "x = data18[data18['importance']=='X']\n",
    "y = data18[data18['importance']=='Y']\n",
    "z = data18[data18['importance']=='Z']\n",
    "plt.figure(figsize=(20,10))\n",
    "plt.scatter(np.arange(x.shape[0]),x['repeating_rate'], s=5)\n",
    "plt.scatter(np.arange(x.shape[0],x.shape[0]+y.shape[0]),y['repeating_rate'], s=5)\n",
    "plt.scatter(np.arange(x.shape[0]+y.shape[0],x.shape[0]+y.shape[0]+z.shape[0]),z['repeating_rate'], s=5)\n",
    "plt.show()"
   ]
  },
  {
   "cell_type": "markdown",
   "metadata": {},
   "source": [
    "### 如何绘图？"
   ]
  },
  {
   "cell_type": "markdown",
   "metadata": {},
   "source": [
    "## 技能点资源频次"
   ]
  },
  {
   "cell_type": "markdown",
   "metadata": {},
   "source": [
    "- 如果“资源”是试卷加作业，作业部分每个技能点对应一个，不用再分析了"
   ]
  },
  {
   "cell_type": "code",
   "execution_count": 5,
   "metadata": {},
   "outputs": [],
   "source": [
    "data19 = sql.read_sql(\"select count(*) as paper_number, skill_point_id, skill_point_name from (SELECT user_id, skill_point_id, skill_point_name, paper_id FROM self_test_logs, valid_students where valid_students.uid=self_test_logs.user_id) A group by skill_point_id,skill_point_name order by paper_number desc\", conn)"
   ]
  },
  {
   "cell_type": "code",
   "execution_count": 6,
   "metadata": {},
   "outputs": [
    {
     "data": {
      "text/html": [
       "<div>\n",
       "<style scoped>\n",
       "    .dataframe tbody tr th:only-of-type {\n",
       "        vertical-align: middle;\n",
       "    }\n",
       "\n",
       "    .dataframe tbody tr th {\n",
       "        vertical-align: top;\n",
       "    }\n",
       "\n",
       "    .dataframe thead th {\n",
       "        text-align: right;\n",
       "    }\n",
       "</style>\n",
       "<table border=\"1\" class=\"dataframe\">\n",
       "  <thead>\n",
       "    <tr style=\"text-align: right;\">\n",
       "      <th></th>\n",
       "      <th>paper_number</th>\n",
       "      <th>skill_point_id</th>\n",
       "      <th>skill_point_name</th>\n",
       "    </tr>\n",
       "  </thead>\n",
       "  <tbody>\n",
       "    <tr>\n",
       "      <th>0</th>\n",
       "      <td>134</td>\n",
       "      <td>10662</td>\n",
       "      <td>定时函数（setTimeout()、setInterval()）</td>\n",
       "    </tr>\n",
       "    <tr>\n",
       "      <th>1</th>\n",
       "      <td>130</td>\n",
       "      <td>16103</td>\n",
       "      <td>document对象</td>\n",
       "    </tr>\n",
       "    <tr>\n",
       "      <th>2</th>\n",
       "      <td>119</td>\n",
       "      <td>170</td>\n",
       "      <td>了解网页的基本结构</td>\n",
       "    </tr>\n",
       "    <tr>\n",
       "      <th>3</th>\n",
       "      <td>119</td>\n",
       "      <td>13543</td>\n",
       "      <td>了解html标记特点及发展历史</td>\n",
       "    </tr>\n",
       "    <tr>\n",
       "      <th>4</th>\n",
       "      <td>119</td>\n",
       "      <td>13542</td>\n",
       "      <td>了解html基本概念</td>\n",
       "    </tr>\n",
       "  </tbody>\n",
       "</table>\n",
       "</div>"
      ],
      "text/plain": [
       "   paper_number  skill_point_id                  skill_point_name\n",
       "0           134           10662  定时函数（setTimeout()、setInterval()）\n",
       "1           130           16103                        document对象\n",
       "2           119             170                         了解网页的基本结构\n",
       "3           119           13543                   了解html标记特点及发展历史\n",
       "4           119           13542                        了解html基本概念"
      ]
     },
     "execution_count": 6,
     "metadata": {},
     "output_type": "execute_result"
    }
   ],
   "source": [
    "data19.head()"
   ]
  },
  {
   "cell_type": "code",
   "execution_count": 69,
   "metadata": {},
   "outputs": [
    {
     "data": {
      "text/plain": [
       "Text(0,0.5,'number of papers per skill point')"
      ]
     },
     "execution_count": 69,
     "metadata": {},
     "output_type": "execute_result"
    },
    {
     "data": {
      "image/png": "[encoded data removed]",
      "text/plain": [
       "<matplotlib.figure.Figure at 0x16ff473a5c0>"
      ]
     },
     "metadata": {},
     "output_type": "display_data"
    }
   ],
   "source": [
    "data19['paper_number'].plot()\n",
    "plt.xlabel(\"skill point ranking\")\n",
    "plt.ylabel(\"number of papers per skill point\")"
   ]
  },
  {
   "cell_type": "code",
   "execution_count": 8,
   "metadata": {},
   "outputs": [
    {
     "data": {
      "text/plain": [
       "count    226.000000\n",
       "mean      44.154867\n",
       "std       33.081017\n",
       "min        2.000000\n",
       "25%       19.000000\n",
       "50%       36.000000\n",
       "75%       60.000000\n",
       "max      134.000000\n",
       "Name: paper_number, dtype: float64"
      ]
     },
     "execution_count": 8,
     "metadata": {},
     "output_type": "execute_result"
    }
   ],
   "source": [
    "data19['paper_number'].describe()"
   ]
  },
  {
   "cell_type": "markdown",
   "metadata": {},
   "source": [
    "- 参考四分位数，试卷数大于60为使用资源多，35-60位使用资源中等，35以下为少"
   ]
  },
  {
   "cell_type": "code",
   "execution_count": 27,
   "metadata": {},
   "outputs": [
    {
     "data": {
      "text/html": [
       "<div>\n",
       "<style scoped>\n",
       "    .dataframe tbody tr th:only-of-type {\n",
       "        vertical-align: middle;\n",
       "    }\n",
       "\n",
       "    .dataframe tbody tr th {\n",
       "        vertical-align: top;\n",
       "    }\n",
       "\n",
       "    .dataframe thead th {\n",
       "        text-align: right;\n",
       "    }\n",
       "</style>\n",
       "<table border=\"1\" class=\"dataframe\">\n",
       "  <thead>\n",
       "    <tr style=\"text-align: right;\">\n",
       "      <th></th>\n",
       "      <th>paper_number</th>\n",
       "      <th>skill_point_id</th>\n",
       "      <th>skill_point_name</th>\n",
       "      <th>tag</th>\n",
       "    </tr>\n",
       "  </thead>\n",
       "  <tbody>\n",
       "    <tr>\n",
       "      <th>0</th>\n",
       "      <td>134</td>\n",
       "      <td>10662</td>\n",
       "      <td>定时函数（setTimeout()、setInterval()）</td>\n",
       "      <td>nan</td>\n",
       "    </tr>\n",
       "    <tr>\n",
       "      <th>1</th>\n",
       "      <td>130</td>\n",
       "      <td>16103</td>\n",
       "      <td>document对象</td>\n",
       "      <td>nan</td>\n",
       "    </tr>\n",
       "    <tr>\n",
       "      <th>2</th>\n",
       "      <td>119</td>\n",
       "      <td>170</td>\n",
       "      <td>了解网页的基本结构</td>\n",
       "      <td>nan</td>\n",
       "    </tr>\n",
       "    <tr>\n",
       "      <th>3</th>\n",
       "      <td>119</td>\n",
       "      <td>13543</td>\n",
       "      <td>了解html标记特点及发展历史</td>\n",
       "      <td>nan</td>\n",
       "    </tr>\n",
       "    <tr>\n",
       "      <th>4</th>\n",
       "      <td>119</td>\n",
       "      <td>13542</td>\n",
       "      <td>了解html基本概念</td>\n",
       "      <td>nan</td>\n",
       "    </tr>\n",
       "  </tbody>\n",
       "</table>\n",
       "</div>"
      ],
      "text/plain": [
       "   paper_number  skill_point_id                  skill_point_name  tag\n",
       "0           134           10662  定时函数（setTimeout()、setInterval()）  nan\n",
       "1           130           16103                        document对象  nan\n",
       "2           119             170                         了解网页的基本结构  nan\n",
       "3           119           13543                   了解html标记特点及发展历史  nan\n",
       "4           119           13542                        了解html基本概念  nan"
      ]
     },
     "execution_count": 27,
     "metadata": {},
     "output_type": "execute_result"
    }
   ],
   "source": [
    "data19['tag']='nan'\n",
    "data19.head()"
   ]
  },
  {
   "cell_type": "code",
   "execution_count": 28,
   "metadata": {},
   "outputs": [
    {
     "data": {
      "text/plain": [
       "RangeIndex(start=0, stop=226, step=1)"
      ]
     },
     "execution_count": 28,
     "metadata": {},
     "output_type": "execute_result"
    }
   ],
   "source": [
    "data19.index"
   ]
  },
  {
   "cell_type": "code",
   "execution_count": 48,
   "metadata": {},
   "outputs": [],
   "source": [
    "for ei in data19.index:\n",
    "    if data19.loc[ei,'paper_number'] > 60:\n",
    "        data19['tag']='high'\n",
    "    else:\n",
    "        data19['tag']='nan'\n",
    "    #if data19.loc[ei,'paper_number']<=60 and data19.loc[ei,'paper_number']>35:\n",
    "     #   data19['tag']='medium'\n",
    "    #if data19.loc[ei,'paper_number']<=35:\n",
    "     #   data19['tag']='low'"
   ]
  },
  {
   "cell_type": "code",
   "execution_count": 49,
   "metadata": {},
   "outputs": [
    {
     "name": "stdout",
     "output_type": "stream",
     "text": [
      "True\n",
      "True\n",
      "True\n",
      "True\n",
      "True\n",
      "True\n",
      "True\n",
      "True\n",
      "True\n",
      "True\n",
      "True\n",
      "True\n",
      "True\n",
      "True\n",
      "True\n",
      "True\n",
      "True\n",
      "True\n",
      "True\n",
      "True\n",
      "True\n",
      "True\n",
      "True\n",
      "True\n",
      "True\n",
      "True\n",
      "True\n",
      "True\n",
      "True\n",
      "True\n",
      "True\n",
      "True\n",
      "True\n",
      "True\n",
      "True\n",
      "True\n",
      "True\n",
      "True\n",
      "True\n",
      "True\n",
      "True\n",
      "True\n",
      "True\n",
      "True\n",
      "True\n",
      "True\n",
      "True\n",
      "True\n",
      "True\n",
      "True\n",
      "True\n",
      "True\n",
      "True\n",
      "True\n",
      "True\n",
      "True\n",
      "False\n",
      "False\n",
      "False\n",
      "False\n",
      "False\n",
      "False\n",
      "False\n",
      "False\n",
      "False\n",
      "False\n",
      "False\n",
      "False\n",
      "False\n",
      "False\n",
      "False\n",
      "False\n",
      "False\n",
      "False\n",
      "False\n",
      "False\n",
      "False\n",
      "False\n",
      "False\n",
      "False\n",
      "False\n",
      "False\n",
      "False\n",
      "False\n",
      "False\n",
      "False\n",
      "False\n",
      "False\n",
      "False\n",
      "False\n",
      "False\n",
      "False\n",
      "False\n",
      "False\n",
      "False\n",
      "False\n",
      "False\n",
      "False\n",
      "False\n",
      "False\n",
      "False\n",
      "False\n",
      "False\n",
      "False\n",
      "False\n",
      "False\n",
      "False\n",
      "False\n",
      "False\n",
      "False\n",
      "False\n",
      "False\n",
      "False\n",
      "False\n",
      "False\n",
      "False\n",
      "False\n",
      "False\n",
      "False\n",
      "False\n",
      "False\n",
      "False\n",
      "False\n",
      "False\n",
      "False\n",
      "False\n",
      "False\n",
      "False\n",
      "False\n",
      "False\n",
      "False\n",
      "False\n",
      "False\n",
      "False\n",
      "False\n",
      "False\n",
      "False\n",
      "False\n",
      "False\n",
      "False\n",
      "False\n",
      "False\n",
      "False\n",
      "False\n",
      "False\n",
      "False\n",
      "False\n",
      "False\n",
      "False\n",
      "False\n",
      "False\n",
      "False\n",
      "False\n",
      "False\n",
      "False\n",
      "False\n",
      "False\n",
      "False\n",
      "False\n",
      "False\n",
      "False\n",
      "False\n",
      "False\n",
      "False\n",
      "False\n",
      "False\n",
      "False\n",
      "False\n",
      "False\n",
      "False\n",
      "False\n",
      "False\n",
      "False\n",
      "False\n",
      "False\n",
      "False\n",
      "False\n",
      "False\n",
      "False\n",
      "False\n",
      "False\n",
      "False\n",
      "False\n",
      "False\n",
      "False\n",
      "False\n",
      "False\n",
      "False\n",
      "False\n",
      "False\n",
      "False\n",
      "False\n",
      "False\n",
      "False\n",
      "False\n",
      "False\n",
      "False\n",
      "False\n",
      "False\n",
      "False\n",
      "False\n",
      "False\n",
      "False\n",
      "False\n",
      "False\n",
      "False\n",
      "False\n",
      "False\n",
      "False\n",
      "False\n",
      "False\n",
      "False\n",
      "False\n",
      "False\n",
      "False\n",
      "False\n",
      "False\n",
      "False\n",
      "False\n",
      "False\n",
      "False\n",
      "False\n",
      "False\n",
      "False\n",
      "False\n",
      "False\n"
     ]
    }
   ],
   "source": [
    "for ei in data19.index:\n",
    "    print(data19.loc[ei, 'paper_number']>60)\n"
   ]
  },
  {
   "cell_type": "code",
   "execution_count": 61,
   "metadata": {},
   "outputs": [],
   "source": [
    "data19.iloc[:56,-1]='high'"
   ]
  },
  {
   "cell_type": "code",
   "execution_count": 66,
   "metadata": {},
   "outputs": [],
   "source": [
    "data19.iloc[56:122,-1]='medium'"
   ]
  },
  {
   "cell_type": "code",
   "execution_count": 67,
   "metadata": {},
   "outputs": [],
   "source": [
    "data19.iloc[122:,-1]='low'"
   ]
  },
  {
   "cell_type": "code",
   "execution_count": 70,
   "metadata": {},
   "outputs": [
    {
     "data": {
      "text/html": [
       "<div>\n",
       "<style scoped>\n",
       "    .dataframe tbody tr th:only-of-type {\n",
       "        vertical-align: middle;\n",
       "    }\n",
       "\n",
       "    .dataframe tbody tr th {\n",
       "        vertical-align: top;\n",
       "    }\n",
       "\n",
       "    .dataframe thead th {\n",
       "        text-align: right;\n",
       "    }\n",
       "</style>\n",
       "<table border=\"1\" class=\"dataframe\">\n",
       "  <thead>\n",
       "    <tr style=\"text-align: right;\">\n",
       "      <th></th>\n",
       "      <th>paper_number</th>\n",
       "      <th>skill_point_id</th>\n",
       "      <th>skill_point_name</th>\n",
       "      <th>tag</th>\n",
       "    </tr>\n",
       "  </thead>\n",
       "  <tbody>\n",
       "    <tr>\n",
       "      <th>0</th>\n",
       "      <td>134</td>\n",
       "      <td>10662</td>\n",
       "      <td>定时函数（setTimeout()、setInterval()）</td>\n",
       "      <td>high</td>\n",
       "    </tr>\n",
       "    <tr>\n",
       "      <th>1</th>\n",
       "      <td>130</td>\n",
       "      <td>16103</td>\n",
       "      <td>document对象</td>\n",
       "      <td>high</td>\n",
       "    </tr>\n",
       "    <tr>\n",
       "      <th>2</th>\n",
       "      <td>119</td>\n",
       "      <td>170</td>\n",
       "      <td>了解网页的基本结构</td>\n",
       "      <td>high</td>\n",
       "    </tr>\n",
       "    <tr>\n",
       "      <th>3</th>\n",
       "      <td>119</td>\n",
       "      <td>13543</td>\n",
       "      <td>了解html标记特点及发展历史</td>\n",
       "      <td>high</td>\n",
       "    </tr>\n",
       "    <tr>\n",
       "      <th>4</th>\n",
       "      <td>119</td>\n",
       "      <td>13542</td>\n",
       "      <td>了解html基本概念</td>\n",
       "      <td>high</td>\n",
       "    </tr>\n",
       "  </tbody>\n",
       "</table>\n",
       "</div>"
      ],
      "text/plain": [
       "   paper_number  skill_point_id                  skill_point_name   tag\n",
       "0           134           10662  定时函数（setTimeout()、setInterval()）  high\n",
       "1           130           16103                        document对象  high\n",
       "2           119             170                         了解网页的基本结构  high\n",
       "3           119           13543                   了解html标记特点及发展历史  high\n",
       "4           119           13542                        了解html基本概念  high"
      ]
     },
     "execution_count": 70,
     "metadata": {},
     "output_type": "execute_result"
    }
   ],
   "source": [
    "data19.head()"
   ]
  },
  {
   "cell_type": "code",
   "execution_count": 75,
   "metadata": {},
   "outputs": [
    {
     "data": {
      "text/plain": [
       "Text(0,0.5,'number of papers per skill point')"
      ]
     },
     "execution_count": 75,
     "metadata": {},
     "output_type": "execute_result"
    },
    {
     "data": {
      "image/png": "[encoded data removed]",
      "text/plain": [
       "<matplotlib.figure.Figure at 0x16ff4943400>"
      ]
     },
     "metadata": {},
     "output_type": "display_data"
    }
   ],
   "source": [
    "data19[data19['tag']=='high']['paper_number'].plot()\n",
    "data19[data19['tag']=='medium']['paper_number'].plot()\n",
    "data19[data19['tag']=='low']['paper_number'].plot()\n",
    "plt.xlabel(\"skill points ranking\")\n",
    "plt.ylabel(\"number of papers per skill point\")"
   ]
  },
  {
   "cell_type": "code",
   "execution_count": 85,
   "metadata": {},
   "outputs": [
    {
     "data": {
      "text/plain": [
       "(array([0, 1, 2]), <a list of 3 Text xticklabel objects>)"
      ]
     },
     "execution_count": 85,
     "metadata": {},
     "output_type": "execute_result"
    },
    {
     "data": {
      "image/png": "[encoded data removed]",
      "text/plain": [
       "<matplotlib.figure.Figure at 0x16ff4b42860>"
      ]
     },
     "metadata": {},
     "output_type": "display_data"
    }
   ],
   "source": [
    "data19['paper_number'].groupby(data19['tag']).count().plot(kind='bar')\n",
    "x = np.arange(3)\n",
    "y = data19['paper_number'].groupby(data19['tag']).count()\n",
    "for a,b in zip(x,y):\n",
    "    plt.text(a, b+0.05, '%.0f' % b, ha='center', va='bottom')\n",
    "plt.xticks(rotation=0)"
   ]
  },
  {
   "cell_type": "code",
   "execution_count": null,
   "metadata": {},
   "outputs": [],
   "source": []
  }
 ],
 "metadata": {
  "kernelspec": {
   "display_name": "Python 3",
   "language": "python",
   "name": "python3"
  },
  "language_info": {
   "codemirror_mode": {
    "name": "ipython",
    "version": 3
   },
   "file_extension": ".py",
   "mimetype": "text/x-python",
   "name": "python",
   "nbconvert_exporter": "python",
   "pygments_lexer": "ipython3",
   "version": "3.5.0"
  }
 },
 "nbformat": 4,
 "nbformat_minor": 2
}
