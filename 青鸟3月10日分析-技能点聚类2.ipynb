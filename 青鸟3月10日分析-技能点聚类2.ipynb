{
 "cells": [
  {
   "cell_type": "code",
   "execution_count": 1,
   "metadata": {},
   "outputs": [],
   "source": [
    "import MySQLdb\n",
    "conn = MySQLdb.connect(host='127.0.0.1', port=3306, user='root', passwd='123', db='edm', charset='utf8')\n",
    "import pandas as pd\n",
    "import numpy as np\n",
    "from pandas import Series, DataFrame\n",
    "import pandas.io.sql as sql\n",
    "import matplotlib.pyplot as plt\n",
    "from sklearn.cluster import KMeans\n",
    "from sklearn import preprocessing\n",
    "from mpl_toolkits.mplot3d import Axes3D"
   ]
  },
  {
   "cell_type": "code",
   "execution_count": 65,
   "metadata": {},
   "outputs": [],
   "source": [
    "data = pd.read_csv(\"C:\\\\Users\\\\X1\\\\Desktop\\\\new_clustered_data.csv\")"
   ]
  },
  {
   "cell_type": "code",
   "execution_count": 66,
   "metadata": {},
   "outputs": [
    {
     "data": {
      "text/html": [
       "<div>\n",
       "<style scoped>\n",
       "    .dataframe tbody tr th:only-of-type {\n",
       "        vertical-align: middle;\n",
       "    }\n",
       "\n",
       "    .dataframe tbody tr th {\n",
       "        vertical-align: top;\n",
       "    }\n",
       "\n",
       "    .dataframe thead th {\n",
       "        text-align: right;\n",
       "    }\n",
       "</style>\n",
       "<table border=\"1\" class=\"dataframe\">\n",
       "  <thead>\n",
       "    <tr style=\"text-align: right;\">\n",
       "      <th></th>\n",
       "      <th>Unnamed: 0</th>\n",
       "      <th>skill_point</th>\n",
       "      <th>importance</th>\n",
       "      <th>question_number</th>\n",
       "      <th>appearance_frequency</th>\n",
       "      <th>error_frequency</th>\n",
       "      <th>time</th>\n",
       "      <th>score</th>\n",
       "      <th>supply</th>\n",
       "      <th>study_feature</th>\n",
       "      <th>priority</th>\n",
       "    </tr>\n",
       "  </thead>\n",
       "  <tbody>\n",
       "    <tr>\n",
       "      <th>0</th>\n",
       "      <td>0</td>\n",
       "      <td>169</td>\n",
       "      <td>X</td>\n",
       "      <td>72</td>\n",
       "      <td>238</td>\n",
       "      <td>33</td>\n",
       "      <td>27.883333</td>\n",
       "      <td>15</td>\n",
       "      <td>1</td>\n",
       "      <td>1</td>\n",
       "      <td>3</td>\n",
       "    </tr>\n",
       "    <tr>\n",
       "      <th>1</th>\n",
       "      <td>1</td>\n",
       "      <td>170</td>\n",
       "      <td>X</td>\n",
       "      <td>115</td>\n",
       "      <td>238</td>\n",
       "      <td>39</td>\n",
       "      <td>20.283333</td>\n",
       "      <td>15</td>\n",
       "      <td>1</td>\n",
       "      <td>1</td>\n",
       "      <td>2</td>\n",
       "    </tr>\n",
       "    <tr>\n",
       "      <th>2</th>\n",
       "      <td>2</td>\n",
       "      <td>171</td>\n",
       "      <td>Y</td>\n",
       "      <td>77</td>\n",
       "      <td>238</td>\n",
       "      <td>57</td>\n",
       "      <td>22.683333</td>\n",
       "      <td>15</td>\n",
       "      <td>1</td>\n",
       "      <td>1</td>\n",
       "      <td>2</td>\n",
       "    </tr>\n",
       "    <tr>\n",
       "      <th>3</th>\n",
       "      <td>3</td>\n",
       "      <td>172</td>\n",
       "      <td>X</td>\n",
       "      <td>137</td>\n",
       "      <td>216</td>\n",
       "      <td>31</td>\n",
       "      <td>8.266667</td>\n",
       "      <td>13</td>\n",
       "      <td>1</td>\n",
       "      <td>0</td>\n",
       "      <td>3</td>\n",
       "    </tr>\n",
       "    <tr>\n",
       "      <th>4</th>\n",
       "      <td>4</td>\n",
       "      <td>184</td>\n",
       "      <td>X</td>\n",
       "      <td>49</td>\n",
       "      <td>72</td>\n",
       "      <td>8</td>\n",
       "      <td>3.666667</td>\n",
       "      <td>15</td>\n",
       "      <td>1</td>\n",
       "      <td>0</td>\n",
       "      <td>3</td>\n",
       "    </tr>\n",
       "  </tbody>\n",
       "</table>\n",
       "</div>"
      ],
      "text/plain": [
       "   Unnamed: 0  skill_point importance  question_number  appearance_frequency  \\\n",
       "0           0          169          X               72                   238   \n",
       "1           1          170          X              115                   238   \n",
       "2           2          171          Y               77                   238   \n",
       "3           3          172          X              137                   216   \n",
       "4           4          184          X               49                    72   \n",
       "\n",
       "   error_frequency       time  score  supply  study_feature  priority  \n",
       "0               33  27.883333     15       1              1         3  \n",
       "1               39  20.283333     15       1              1         2  \n",
       "2               57  22.683333     15       1              1         2  \n",
       "3               31   8.266667     13       1              0         3  \n",
       "4                8   3.666667     15       1              0         3  "
      ]
     },
     "execution_count": 66,
     "metadata": {},
     "output_type": "execute_result"
    }
   ],
   "source": [
    "data.head()"
   ]
  },
  {
   "cell_type": "markdown",
   "metadata": {},
   "source": [
    "## supply连续值（quest, time）"
   ]
  },
  {
   "cell_type": "code",
   "execution_count": 180,
   "metadata": {},
   "outputs": [
    {
     "data": {
      "text/plain": [
       "count    2.250000e+02\n",
       "mean     3.157968e-17\n",
       "std      7.500234e-01\n",
       "min     -2.310387e+00\n",
       "25%     -3.607200e-01\n",
       "50%     -2.428166e-01\n",
       "75%      2.726683e-01\n",
       "max      3.703359e+00\n",
       "Name: supply_2, dtype: float64"
      ]
     },
     "execution_count": 180,
     "metadata": {},
     "output_type": "execute_result"
    }
   ],
   "source": [
    "data1 = pd.DataFrame(preprocessing.scale(data.loc[:,['question_number', 'time']]))\n",
    "\n",
    "data['supply_2'] = (data1[0]-0.5*data1[1])/1.5\n",
    "data['supply_2'].describe()"
   ]
  },
  {
   "cell_type": "markdown",
   "metadata": {},
   "source": [
    "## 验证聚类结果和连续值的关系"
   ]
  },
  {
   "cell_type": "code",
   "execution_count": 181,
   "metadata": {},
   "outputs": [
    {
     "data": {
      "text/plain": [
       "<matplotlib.legend.Legend at 0x117a7162710>"
      ]
     },
     "execution_count": 181,
     "metadata": {},
     "output_type": "execute_result"
    },
    {
     "data": {
      "image/png": "[encoded data removed]",
      "text/plain": [
       "<matplotlib.figure.Figure at 0x117a71b96d8>"
      ]
     },
     "metadata": {},
     "output_type": "display_data"
    }
   ],
   "source": [
    "mylist=[data[data['supply']==0], data[data['supply']==1],data[data['supply']==2]]\n",
    "l=0\n",
    "for dataset in mylist:\n",
    "    l_new = l+dataset.shape[0]\n",
    "    plt.scatter(np.arange(l,l_new,1),dataset['supply_2'],s=5)\n",
    "    l = l_new\n",
    "plt.legend([0,1,2])"
   ]
  },
  {
   "cell_type": "markdown",
   "metadata": {},
   "source": [
    "## 效果似乎比较匹配"
   ]
  },
  {
   "cell_type": "markdown",
   "metadata": {},
   "source": [
    "## 对其他两个新参数同样进行连续化处理"
   ]
  },
  {
   "cell_type": "code",
   "execution_count": 106,
   "metadata": {},
   "outputs": [
    {
     "data": {
      "text/plain": [
       "count    2.250000e+02\n",
       "mean     1.381611e-17\n",
       "std      7.012105e-01\n",
       "min     -1.449615e+00\n",
       "25%     -3.006506e-01\n",
       "50%     -8.648040e-02\n",
       "75%      5.439865e-02\n",
       "max      3.831193e+00\n",
       "Name: study_feature_2, dtype: float64"
      ]
     },
     "execution_count": 106,
     "metadata": {},
     "output_type": "execute_result"
    }
   ],
   "source": [
    "data1 = pd.DataFrame(preprocessing.scale(data.loc[:,['error_frequency', 'time']]))\n",
    "\n",
    "data['study_feature_2'] = (-data1[0]+2*data1[1])/3\n",
    "data['study_feature_2'].describe()"
   ]
  },
  {
   "cell_type": "code",
   "execution_count": 113,
   "metadata": {},
   "outputs": [
    {
     "data": {
      "text/html": [
       "<div>\n",
       "<style scoped>\n",
       "    .dataframe tbody tr th:only-of-type {\n",
       "        vertical-align: middle;\n",
       "    }\n",
       "\n",
       "    .dataframe tbody tr th {\n",
       "        vertical-align: top;\n",
       "    }\n",
       "\n",
       "    .dataframe thead th {\n",
       "        text-align: right;\n",
       "    }\n",
       "</style>\n",
       "<table border=\"1\" class=\"dataframe\">\n",
       "  <thead>\n",
       "    <tr style=\"text-align: right;\">\n",
       "      <th></th>\n",
       "      <th>Unnamed: 0</th>\n",
       "      <th>skill_point</th>\n",
       "      <th>importance</th>\n",
       "      <th>question_number</th>\n",
       "      <th>appearance_frequency</th>\n",
       "      <th>error_frequency</th>\n",
       "      <th>time</th>\n",
       "      <th>score</th>\n",
       "      <th>supply</th>\n",
       "      <th>study_feature</th>\n",
       "      <th>priority</th>\n",
       "      <th>priority_2</th>\n",
       "      <th>study_feature_2</th>\n",
       "      <th>supply_2</th>\n",
       "      <th>12</th>\n",
       "    </tr>\n",
       "  </thead>\n",
       "  <tbody>\n",
       "    <tr>\n",
       "      <th>0</th>\n",
       "      <td>0</td>\n",
       "      <td>169</td>\n",
       "      <td>X</td>\n",
       "      <td>72</td>\n",
       "      <td>238</td>\n",
       "      <td>33</td>\n",
       "      <td>27.883333</td>\n",
       "      <td>15</td>\n",
       "      <td>1</td>\n",
       "      <td>1</td>\n",
       "      <td>3</td>\n",
       "      <td>0.185091</td>\n",
       "      <td>-0.575890</td>\n",
       "      <td>0.524815</td>\n",
       "      <td>0.575890</td>\n",
       "    </tr>\n",
       "    <tr>\n",
       "      <th>1</th>\n",
       "      <td>1</td>\n",
       "      <td>170</td>\n",
       "      <td>X</td>\n",
       "      <td>115</td>\n",
       "      <td>238</td>\n",
       "      <td>39</td>\n",
       "      <td>20.283333</td>\n",
       "      <td>15</td>\n",
       "      <td>1</td>\n",
       "      <td>1</td>\n",
       "      <td>2</td>\n",
       "      <td>0.077549</td>\n",
       "      <td>-0.702409</td>\n",
       "      <td>1.194764</td>\n",
       "      <td>0.702409</td>\n",
       "    </tr>\n",
       "    <tr>\n",
       "      <th>2</th>\n",
       "      <td>2</td>\n",
       "      <td>171</td>\n",
       "      <td>Y</td>\n",
       "      <td>77</td>\n",
       "      <td>238</td>\n",
       "      <td>57</td>\n",
       "      <td>22.683333</td>\n",
       "      <td>15</td>\n",
       "      <td>1</td>\n",
       "      <td>1</td>\n",
       "      <td>2</td>\n",
       "      <td>-0.257662</td>\n",
       "      <td>-1.031627</td>\n",
       "      <td>0.596250</td>\n",
       "      <td>1.031627</td>\n",
       "    </tr>\n",
       "    <tr>\n",
       "      <th>3</th>\n",
       "      <td>3</td>\n",
       "      <td>172</td>\n",
       "      <td>X</td>\n",
       "      <td>137</td>\n",
       "      <td>216</td>\n",
       "      <td>31</td>\n",
       "      <td>8.266667</td>\n",
       "      <td>13</td>\n",
       "      <td>1</td>\n",
       "      <td>0</td>\n",
       "      <td>3</td>\n",
       "      <td>-0.050589</td>\n",
       "      <td>-0.577963</td>\n",
       "      <td>1.525351</td>\n",
       "      <td>-0.577963</td>\n",
       "    </tr>\n",
       "    <tr>\n",
       "      <th>4</th>\n",
       "      <td>4</td>\n",
       "      <td>184</td>\n",
       "      <td>X</td>\n",
       "      <td>49</td>\n",
       "      <td>72</td>\n",
       "      <td>8</td>\n",
       "      <td>3.666667</td>\n",
       "      <td>15</td>\n",
       "      <td>1</td>\n",
       "      <td>0</td>\n",
       "      <td>3</td>\n",
       "      <td>0.661090</td>\n",
       "      <td>-0.160359</td>\n",
       "      <td>0.124100</td>\n",
       "      <td>-0.160359</td>\n",
       "    </tr>\n",
       "  </tbody>\n",
       "</table>\n",
       "</div>"
      ],
      "text/plain": [
       "   Unnamed: 0  skill_point importance  question_number  appearance_frequency  \\\n",
       "0           0          169          X               72                   238   \n",
       "1           1          170          X              115                   238   \n",
       "2           2          171          Y               77                   238   \n",
       "3           3          172          X              137                   216   \n",
       "4           4          184          X               49                    72   \n",
       "\n",
       "   error_frequency       time  score  supply  study_feature  priority  \\\n",
       "0               33  27.883333     15       1              1         3   \n",
       "1               39  20.283333     15       1              1         2   \n",
       "2               57  22.683333     15       1              1         2   \n",
       "3               31   8.266667     13       1              0         3   \n",
       "4                8   3.666667     15       1              0         3   \n",
       "\n",
       "   priority_2  study_feature_2  supply_2        12  \n",
       "0    0.185091        -0.575890  0.524815  0.575890  \n",
       "1    0.077549        -0.702409  1.194764  0.702409  \n",
       "2   -0.257662        -1.031627  0.596250  1.031627  \n",
       "3   -0.050589        -0.577963  1.525351 -0.577963  \n",
       "4    0.661090        -0.160359  0.124100 -0.160359  "
      ]
     },
     "execution_count": 113,
     "metadata": {},
     "output_type": "execute_result"
    }
   ],
   "source": [
    "data.head()"
   ]
  },
  {
   "cell_type": "code",
   "execution_count": 110,
   "metadata": {},
   "outputs": [
    {
     "data": {
      "text/plain": [
       "0   -0.575890\n",
       "1   -0.702409\n",
       "2   -1.031627\n",
       "3   -0.577963\n",
       "4   -0.160359\n",
       "5   -0.109917\n",
       "6   -0.095286\n",
       "7   -0.379099\n",
       "8   -0.213642\n",
       "9   -0.352337\n",
       "Name: study_feature_2, dtype: float64"
      ]
     },
     "execution_count": 110,
     "metadata": {},
     "output_type": "execute_result"
    }
   ],
   "source": [
    "data.iloc[:10,12]"
   ]
  },
  {
   "cell_type": "code",
   "execution_count": 118,
   "metadata": {},
   "outputs": [],
   "source": [
    "for ei in data.index:\n",
    "    if data.iloc[ei,9]==1:\n",
    "        data.iloc[ei,12] = -data.iloc[ei,12]"
   ]
  },
  {
   "cell_type": "code",
   "execution_count": 119,
   "metadata": {},
   "outputs": [
    {
     "data": {
      "text/html": [
       "<div>\n",
       "<style scoped>\n",
       "    .dataframe tbody tr th:only-of-type {\n",
       "        vertical-align: middle;\n",
       "    }\n",
       "\n",
       "    .dataframe tbody tr th {\n",
       "        vertical-align: top;\n",
       "    }\n",
       "\n",
       "    .dataframe thead th {\n",
       "        text-align: right;\n",
       "    }\n",
       "</style>\n",
       "<table border=\"1\" class=\"dataframe\">\n",
       "  <thead>\n",
       "    <tr style=\"text-align: right;\">\n",
       "      <th></th>\n",
       "      <th>Unnamed: 0</th>\n",
       "      <th>skill_point</th>\n",
       "      <th>importance</th>\n",
       "      <th>question_number</th>\n",
       "      <th>appearance_frequency</th>\n",
       "      <th>error_frequency</th>\n",
       "      <th>time</th>\n",
       "      <th>score</th>\n",
       "      <th>supply</th>\n",
       "      <th>study_feature</th>\n",
       "      <th>priority</th>\n",
       "      <th>priority_2</th>\n",
       "      <th>study_feature_2</th>\n",
       "      <th>supply_2</th>\n",
       "      <th>12</th>\n",
       "    </tr>\n",
       "  </thead>\n",
       "  <tbody>\n",
       "    <tr>\n",
       "      <th>0</th>\n",
       "      <td>0</td>\n",
       "      <td>169</td>\n",
       "      <td>X</td>\n",
       "      <td>72</td>\n",
       "      <td>238</td>\n",
       "      <td>33</td>\n",
       "      <td>27.883333</td>\n",
       "      <td>15</td>\n",
       "      <td>1</td>\n",
       "      <td>1</td>\n",
       "      <td>3</td>\n",
       "      <td>0.185091</td>\n",
       "      <td>0.575890</td>\n",
       "      <td>0.524815</td>\n",
       "      <td>0.575890</td>\n",
       "    </tr>\n",
       "    <tr>\n",
       "      <th>1</th>\n",
       "      <td>1</td>\n",
       "      <td>170</td>\n",
       "      <td>X</td>\n",
       "      <td>115</td>\n",
       "      <td>238</td>\n",
       "      <td>39</td>\n",
       "      <td>20.283333</td>\n",
       "      <td>15</td>\n",
       "      <td>1</td>\n",
       "      <td>1</td>\n",
       "      <td>2</td>\n",
       "      <td>0.077549</td>\n",
       "      <td>0.702409</td>\n",
       "      <td>1.194764</td>\n",
       "      <td>0.702409</td>\n",
       "    </tr>\n",
       "    <tr>\n",
       "      <th>2</th>\n",
       "      <td>2</td>\n",
       "      <td>171</td>\n",
       "      <td>Y</td>\n",
       "      <td>77</td>\n",
       "      <td>238</td>\n",
       "      <td>57</td>\n",
       "      <td>22.683333</td>\n",
       "      <td>15</td>\n",
       "      <td>1</td>\n",
       "      <td>1</td>\n",
       "      <td>2</td>\n",
       "      <td>-0.257662</td>\n",
       "      <td>1.031627</td>\n",
       "      <td>0.596250</td>\n",
       "      <td>1.031627</td>\n",
       "    </tr>\n",
       "    <tr>\n",
       "      <th>3</th>\n",
       "      <td>3</td>\n",
       "      <td>172</td>\n",
       "      <td>X</td>\n",
       "      <td>137</td>\n",
       "      <td>216</td>\n",
       "      <td>31</td>\n",
       "      <td>8.266667</td>\n",
       "      <td>13</td>\n",
       "      <td>1</td>\n",
       "      <td>0</td>\n",
       "      <td>3</td>\n",
       "      <td>-0.050589</td>\n",
       "      <td>-0.577963</td>\n",
       "      <td>1.525351</td>\n",
       "      <td>-0.577963</td>\n",
       "    </tr>\n",
       "    <tr>\n",
       "      <th>4</th>\n",
       "      <td>4</td>\n",
       "      <td>184</td>\n",
       "      <td>X</td>\n",
       "      <td>49</td>\n",
       "      <td>72</td>\n",
       "      <td>8</td>\n",
       "      <td>3.666667</td>\n",
       "      <td>15</td>\n",
       "      <td>1</td>\n",
       "      <td>0</td>\n",
       "      <td>3</td>\n",
       "      <td>0.661090</td>\n",
       "      <td>-0.160359</td>\n",
       "      <td>0.124100</td>\n",
       "      <td>-0.160359</td>\n",
       "    </tr>\n",
       "  </tbody>\n",
       "</table>\n",
       "</div>"
      ],
      "text/plain": [
       "   Unnamed: 0  skill_point importance  question_number  appearance_frequency  \\\n",
       "0           0          169          X               72                   238   \n",
       "1           1          170          X              115                   238   \n",
       "2           2          171          Y               77                   238   \n",
       "3           3          172          X              137                   216   \n",
       "4           4          184          X               49                    72   \n",
       "\n",
       "   error_frequency       time  score  supply  study_feature  priority  \\\n",
       "0               33  27.883333     15       1              1         3   \n",
       "1               39  20.283333     15       1              1         2   \n",
       "2               57  22.683333     15       1              1         2   \n",
       "3               31   8.266667     13       1              0         3   \n",
       "4                8   3.666667     15       1              0         3   \n",
       "\n",
       "   priority_2  study_feature_2  supply_2        12  \n",
       "0    0.185091         0.575890  0.524815  0.575890  \n",
       "1    0.077549         0.702409  1.194764  0.702409  \n",
       "2   -0.257662         1.031627  0.596250  1.031627  \n",
       "3   -0.050589        -0.577963  1.525351 -0.577963  \n",
       "4    0.661090        -0.160359  0.124100 -0.160359  "
      ]
     },
     "execution_count": 119,
     "metadata": {},
     "output_type": "execute_result"
    }
   ],
   "source": [
    "data.head()"
   ]
  },
  {
   "cell_type": "code",
   "execution_count": 120,
   "metadata": {},
   "outputs": [
    {
     "data": {
      "text/plain": [
       "<matplotlib.legend.Legend at 0x117a3f50780>"
      ]
     },
     "execution_count": 120,
     "metadata": {},
     "output_type": "execute_result"
    },
    {
     "data": {
      "image/png": "[encoded data removed]",
      "text/plain": [
       "<matplotlib.figure.Figure at 0x117a3f50be0>"
      ]
     },
     "metadata": {},
     "output_type": "display_data"
    }
   ],
   "source": [
    "\n",
    "mylist=[data[data['study_feature']==0], data[data['study_feature']==1],data[data['study_feature']==2]]\n",
    "l=0\n",
    "for dataset in mylist:\n",
    "    l_new = l+dataset.shape[0]\n",
    "    plt.scatter(np.arange(l,l_new,1),dataset['study_feature_2'],s=5)\n",
    "    l = l_new\n",
    "plt.legend([0,1,2])"
   ]
  },
  {
   "cell_type": "code",
   "execution_count": 121,
   "metadata": {},
   "outputs": [
    {
     "data": {
      "text/html": [
       "<div>\n",
       "<style scoped>\n",
       "    .dataframe tbody tr th:only-of-type {\n",
       "        vertical-align: middle;\n",
       "    }\n",
       "\n",
       "    .dataframe tbody tr th {\n",
       "        vertical-align: top;\n",
       "    }\n",
       "\n",
       "    .dataframe thead th {\n",
       "        text-align: right;\n",
       "    }\n",
       "</style>\n",
       "<table border=\"1\" class=\"dataframe\">\n",
       "  <thead>\n",
       "    <tr style=\"text-align: right;\">\n",
       "      <th></th>\n",
       "      <th>0</th>\n",
       "      <th>1</th>\n",
       "      <th>2</th>\n",
       "    </tr>\n",
       "  </thead>\n",
       "  <tbody>\n",
       "    <tr>\n",
       "      <th>0</th>\n",
       "      <td>0.903565</td>\n",
       "      <td>-0.412052</td>\n",
       "      <td>0.835207</td>\n",
       "    </tr>\n",
       "    <tr>\n",
       "      <th>1</th>\n",
       "      <td>1.237577</td>\n",
       "      <td>-0.434825</td>\n",
       "      <td>0.835207</td>\n",
       "    </tr>\n",
       "    <tr>\n",
       "      <th>2</th>\n",
       "      <td>2.239613</td>\n",
       "      <td>-0.427633</td>\n",
       "      <td>0.835207</td>\n",
       "    </tr>\n",
       "    <tr>\n",
       "      <th>3</th>\n",
       "      <td>0.792227</td>\n",
       "      <td>-0.470831</td>\n",
       "      <td>0.270029</td>\n",
       "    </tr>\n",
       "    <tr>\n",
       "      <th>4</th>\n",
       "      <td>-0.488153</td>\n",
       "      <td>-0.484614</td>\n",
       "      <td>0.835207</td>\n",
       "    </tr>\n",
       "  </tbody>\n",
       "</table>\n",
       "</div>"
      ],
      "text/plain": [
       "          0         1         2\n",
       "0  0.903565 -0.412052  0.835207\n",
       "1  1.237577 -0.434825  0.835207\n",
       "2  2.239613 -0.427633  0.835207\n",
       "3  0.792227 -0.470831  0.270029\n",
       "4 -0.488153 -0.484614  0.835207"
      ]
     },
     "execution_count": 121,
     "metadata": {},
     "output_type": "execute_result"
    }
   ],
   "source": [
    "data1 = pd.DataFrame(preprocessing.scale(data.loc[:,['error_frequency', 'time','score']]))\n",
    "\n",
    "data['priority_2'] = (-2*data1[0]-data1[1]+3*data1[2])/6+1.5\n",
    "data1.head()"
   ]
  },
  {
   "cell_type": "code",
   "execution_count": 122,
   "metadata": {},
   "outputs": [
    {
     "data": {
      "text/plain": [
       "<matplotlib.legend.Legend at 0x117a3f49898>"
      ]
     },
     "execution_count": 122,
     "metadata": {},
     "output_type": "execute_result"
    },
    {
     "data": {
      "image/png": "[encoded data removed]",
      "text/plain": [
       "<matplotlib.figure.Figure at 0x117a3f21dd8>"
      ]
     },
     "metadata": {},
     "output_type": "display_data"
    }
   ],
   "source": [
    "mylist=[data[data['priority']==0], data[data['priority']==1],data[data['priority']==2],data[data['priority']==3]]\n",
    "l=0\n",
    "plt.figure(figsize=(10,6))\n",
    "for dataset in mylist:\n",
    "    l_new = l+dataset.shape[0]\n",
    "    plt.scatter(np.arange(l,l_new,1),dataset['priority_2'],s=5)\n",
    "    l = l_new\n",
    "plt.legend([0,1,2,3])"
   ]
  },
  {
   "cell_type": "markdown",
   "metadata": {},
   "source": [
    "## 用连续值进行聚类"
   ]
  },
  {
   "cell_type": "code",
   "execution_count": 169,
   "metadata": {},
   "outputs": [
    {
     "data": {
      "text/plain": [
       "<matplotlib.legend.Legend at 0x117a72d9d30>"
      ]
     },
     "execution_count": 169,
     "metadata": {},
     "output_type": "execute_result"
    },
    {
     "data": {
      "image/png": "[encoded data removed]",
      "text/plain": [
       "<matplotlib.figure.Figure at 0x117a532cbe0>"
      ]
     },
     "metadata": {},
     "output_type": "display_data"
    }
   ],
   "source": [
    "data4 = data.loc[:,['skill_point','study_feature_2','priority_2']]#\n",
    "\n",
    "myModel = KMeans(n_clusters=4)\n",
    "data_to_cluster=preprocessing.scale(data4.loc[:,['study_feature_2','priority_2']])\n",
    "myModel.fit(data_to_cluster)\n",
    "label_pred = myModel.labels_\n",
    "centroids = myModel.cluster_centers_\n",
    "\n",
    "data4['label'] = label_pred#\n",
    "\n",
    "data4_1 = data4[data4['label']==1]\n",
    "data4_2 = data4[data4['label']==2]\n",
    "data4_0 = data4[data4['label']==0]\n",
    "data4_3 = data4[data4['label']==3]\n",
    "list4 = [data4_0,data4_1, data4_2, data4_3]\n",
    "\n",
    "\n",
    "\n",
    "#legend_list=['0','1', '2']\n",
    "#plt.legend(legend_list, fontsize=16)\n",
    "\n",
    "fig = plt.figure(figsize=(8,8))\n",
    "plt.rcParams['font.sans-serif']=['SimHei']\n",
    "plt.rcParams['axes.unicode_minus']=False\n",
    "ax = fig.add_subplot(1,1,1)\n",
    "for result in list4:\n",
    "    ax.scatter(result['priority_2'],result['study_feature_2'],s=5)\n",
    "\n",
    "ax.set_ylabel('study_feature_2',fontsize=16)\n",
    "ax.set_xlabel('priority_2',fontsize=16)\n",
    "ax.legend([0,1,2,3])\n",
    "\n"
   ]
  },
  {
   "cell_type": "code",
   "execution_count": 171,
   "metadata": {},
   "outputs": [
    {
     "data": {
      "text/plain": [
       "<matplotlib.legend.Legend at 0x117a71498d0>"
      ]
     },
     "execution_count": 171,
     "metadata": {},
     "output_type": "execute_result"
    },
    {
     "data": {
      "image/png": "[encoded data removed]",
      "text/plain": [
       "<matplotlib.figure.Figure at 0x117a72f10b8>"
      ]
     },
     "metadata": {},
     "output_type": "display_data"
    }
   ],
   "source": [
    "data4 = data.loc[:,['skill_point','supply_2','priority_2']]#\n",
    "\n",
    "myModel = KMeans(n_clusters=3)\n",
    "data_to_cluster=preprocessing.scale(data4.loc[:,['supply_2','priority_2']])\n",
    "myModel.fit(data_to_cluster)\n",
    "label_pred = myModel.labels_\n",
    "centroids = myModel.cluster_centers_\n",
    "\n",
    "data4['label'] = label_pred#\n",
    "\n",
    "data4_1 = data4[data4['label']==1]\n",
    "data4_2 = data4[data4['label']==2]\n",
    "data4_0 = data4[data4['label']==0]\n",
    "#data4_3 = data4[data4['label']==3]\n",
    "list4 = [data4_0,data4_1, data4_2]\n",
    "\n",
    "\n",
    "\n",
    "#legend_list=['0','1', '2']\n",
    "#plt.legend(legend_list, fontsize=16)\n",
    "\n",
    "fig = plt.figure(figsize=(8,8))\n",
    "plt.rcParams['font.sans-serif']=['SimHei']\n",
    "plt.rcParams['axes.unicode_minus']=False\n",
    "ax = fig.add_subplot(1,1,1)\n",
    "for result in list4:\n",
    "    ax.scatter(result['priority_2'],result['supply_2'],s=5)\n",
    "\n",
    "ax.set_ylabel('supply_2',fontsize=16)\n",
    "ax.set_xlabel('priority_2',fontsize=16)\n",
    "ax.legend([0,1,2])\n",
    "\n"
   ]
  },
  {
   "cell_type": "markdown",
   "metadata": {},
   "source": [
    "## 不想做了，直接比较priority和importance吧"
   ]
  },
  {
   "cell_type": "code",
   "execution_count": 131,
   "metadata": {},
   "outputs": [
    {
     "data": {
      "text/html": [
       "<div>\n",
       "<style scoped>\n",
       "    .dataframe tbody tr th:only-of-type {\n",
       "        vertical-align: middle;\n",
       "    }\n",
       "\n",
       "    .dataframe tbody tr th {\n",
       "        vertical-align: top;\n",
       "    }\n",
       "\n",
       "    .dataframe thead th {\n",
       "        text-align: right;\n",
       "    }\n",
       "</style>\n",
       "<table border=\"1\" class=\"dataframe\">\n",
       "  <thead>\n",
       "    <tr style=\"text-align: right;\">\n",
       "      <th></th>\n",
       "      <th>Unnamed: 0</th>\n",
       "      <th>skill_point</th>\n",
       "      <th>importance</th>\n",
       "      <th>question_number</th>\n",
       "      <th>appearance_frequency</th>\n",
       "      <th>error_frequency</th>\n",
       "      <th>time</th>\n",
       "      <th>score</th>\n",
       "      <th>supply</th>\n",
       "      <th>study_feature</th>\n",
       "      <th>priority</th>\n",
       "      <th>priority_2</th>\n",
       "      <th>study_feature_2</th>\n",
       "      <th>supply_2</th>\n",
       "      <th>12</th>\n",
       "    </tr>\n",
       "  </thead>\n",
       "  <tbody>\n",
       "    <tr>\n",
       "      <th>0</th>\n",
       "      <td>0</td>\n",
       "      <td>169</td>\n",
       "      <td>X</td>\n",
       "      <td>72</td>\n",
       "      <td>238</td>\n",
       "      <td>33</td>\n",
       "      <td>27.883333</td>\n",
       "      <td>15</td>\n",
       "      <td>1</td>\n",
       "      <td>1</td>\n",
       "      <td>3</td>\n",
       "      <td>1.685091</td>\n",
       "      <td>0.575890</td>\n",
       "      <td>0.524815</td>\n",
       "      <td>0.575890</td>\n",
       "    </tr>\n",
       "    <tr>\n",
       "      <th>1</th>\n",
       "      <td>1</td>\n",
       "      <td>170</td>\n",
       "      <td>X</td>\n",
       "      <td>115</td>\n",
       "      <td>238</td>\n",
       "      <td>39</td>\n",
       "      <td>20.283333</td>\n",
       "      <td>15</td>\n",
       "      <td>1</td>\n",
       "      <td>1</td>\n",
       "      <td>2</td>\n",
       "      <td>1.577549</td>\n",
       "      <td>0.702409</td>\n",
       "      <td>1.194764</td>\n",
       "      <td>0.702409</td>\n",
       "    </tr>\n",
       "    <tr>\n",
       "      <th>2</th>\n",
       "      <td>2</td>\n",
       "      <td>171</td>\n",
       "      <td>Y</td>\n",
       "      <td>77</td>\n",
       "      <td>238</td>\n",
       "      <td>57</td>\n",
       "      <td>22.683333</td>\n",
       "      <td>15</td>\n",
       "      <td>1</td>\n",
       "      <td>1</td>\n",
       "      <td>2</td>\n",
       "      <td>1.242338</td>\n",
       "      <td>1.031627</td>\n",
       "      <td>0.596250</td>\n",
       "      <td>1.031627</td>\n",
       "    </tr>\n",
       "    <tr>\n",
       "      <th>3</th>\n",
       "      <td>3</td>\n",
       "      <td>172</td>\n",
       "      <td>X</td>\n",
       "      <td>137</td>\n",
       "      <td>216</td>\n",
       "      <td>31</td>\n",
       "      <td>8.266667</td>\n",
       "      <td>13</td>\n",
       "      <td>1</td>\n",
       "      <td>0</td>\n",
       "      <td>3</td>\n",
       "      <td>1.449411</td>\n",
       "      <td>-0.577963</td>\n",
       "      <td>1.525351</td>\n",
       "      <td>-0.577963</td>\n",
       "    </tr>\n",
       "    <tr>\n",
       "      <th>4</th>\n",
       "      <td>4</td>\n",
       "      <td>184</td>\n",
       "      <td>X</td>\n",
       "      <td>49</td>\n",
       "      <td>72</td>\n",
       "      <td>8</td>\n",
       "      <td>3.666667</td>\n",
       "      <td>15</td>\n",
       "      <td>1</td>\n",
       "      <td>0</td>\n",
       "      <td>3</td>\n",
       "      <td>2.161090</td>\n",
       "      <td>-0.160359</td>\n",
       "      <td>0.124100</td>\n",
       "      <td>-0.160359</td>\n",
       "    </tr>\n",
       "  </tbody>\n",
       "</table>\n",
       "</div>"
      ],
      "text/plain": [
       "   Unnamed: 0  skill_point importance  question_number  appearance_frequency  \\\n",
       "0           0          169          X               72                   238   \n",
       "1           1          170          X              115                   238   \n",
       "2           2          171          Y               77                   238   \n",
       "3           3          172          X              137                   216   \n",
       "4           4          184          X               49                    72   \n",
       "\n",
       "   error_frequency       time  score  supply  study_feature  priority  \\\n",
       "0               33  27.883333     15       1              1         3   \n",
       "1               39  20.283333     15       1              1         2   \n",
       "2               57  22.683333     15       1              1         2   \n",
       "3               31   8.266667     13       1              0         3   \n",
       "4                8   3.666667     15       1              0         3   \n",
       "\n",
       "   priority_2  study_feature_2  supply_2        12  \n",
       "0    1.685091         0.575890  0.524815  0.575890  \n",
       "1    1.577549         0.702409  1.194764  0.702409  \n",
       "2    1.242338         1.031627  0.596250  1.031627  \n",
       "3    1.449411        -0.577963  1.525351 -0.577963  \n",
       "4    2.161090        -0.160359  0.124100 -0.160359  "
      ]
     },
     "execution_count": 131,
     "metadata": {},
     "output_type": "execute_result"
    }
   ],
   "source": [
    "data.head()"
   ]
  },
  {
   "cell_type": "code",
   "execution_count": 134,
   "metadata": {},
   "outputs": [],
   "source": [
    "z={'X':2, 'Y':1, 'Z':0}\n",
    "data['importance']=data['importance'].map(z)"
   ]
  },
  {
   "cell_type": "code",
   "execution_count": 135,
   "metadata": {},
   "outputs": [
    {
     "data": {
      "text/html": [
       "<div>\n",
       "<style scoped>\n",
       "    .dataframe tbody tr th:only-of-type {\n",
       "        vertical-align: middle;\n",
       "    }\n",
       "\n",
       "    .dataframe tbody tr th {\n",
       "        vertical-align: top;\n",
       "    }\n",
       "\n",
       "    .dataframe thead th {\n",
       "        text-align: right;\n",
       "    }\n",
       "</style>\n",
       "<table border=\"1\" class=\"dataframe\">\n",
       "  <thead>\n",
       "    <tr style=\"text-align: right;\">\n",
       "      <th></th>\n",
       "      <th>Unnamed: 0</th>\n",
       "      <th>skill_point</th>\n",
       "      <th>importance</th>\n",
       "      <th>question_number</th>\n",
       "      <th>appearance_frequency</th>\n",
       "      <th>error_frequency</th>\n",
       "      <th>time</th>\n",
       "      <th>score</th>\n",
       "      <th>supply</th>\n",
       "      <th>study_feature</th>\n",
       "      <th>priority</th>\n",
       "      <th>priority_2</th>\n",
       "      <th>study_feature_2</th>\n",
       "      <th>supply_2</th>\n",
       "      <th>12</th>\n",
       "    </tr>\n",
       "  </thead>\n",
       "  <tbody>\n",
       "    <tr>\n",
       "      <th>0</th>\n",
       "      <td>0</td>\n",
       "      <td>169</td>\n",
       "      <td>2</td>\n",
       "      <td>72</td>\n",
       "      <td>238</td>\n",
       "      <td>33</td>\n",
       "      <td>27.883333</td>\n",
       "      <td>15</td>\n",
       "      <td>1</td>\n",
       "      <td>1</td>\n",
       "      <td>3</td>\n",
       "      <td>1.685091</td>\n",
       "      <td>0.575890</td>\n",
       "      <td>0.524815</td>\n",
       "      <td>0.575890</td>\n",
       "    </tr>\n",
       "    <tr>\n",
       "      <th>1</th>\n",
       "      <td>1</td>\n",
       "      <td>170</td>\n",
       "      <td>2</td>\n",
       "      <td>115</td>\n",
       "      <td>238</td>\n",
       "      <td>39</td>\n",
       "      <td>20.283333</td>\n",
       "      <td>15</td>\n",
       "      <td>1</td>\n",
       "      <td>1</td>\n",
       "      <td>2</td>\n",
       "      <td>1.577549</td>\n",
       "      <td>0.702409</td>\n",
       "      <td>1.194764</td>\n",
       "      <td>0.702409</td>\n",
       "    </tr>\n",
       "    <tr>\n",
       "      <th>2</th>\n",
       "      <td>2</td>\n",
       "      <td>171</td>\n",
       "      <td>1</td>\n",
       "      <td>77</td>\n",
       "      <td>238</td>\n",
       "      <td>57</td>\n",
       "      <td>22.683333</td>\n",
       "      <td>15</td>\n",
       "      <td>1</td>\n",
       "      <td>1</td>\n",
       "      <td>2</td>\n",
       "      <td>1.242338</td>\n",
       "      <td>1.031627</td>\n",
       "      <td>0.596250</td>\n",
       "      <td>1.031627</td>\n",
       "    </tr>\n",
       "    <tr>\n",
       "      <th>3</th>\n",
       "      <td>3</td>\n",
       "      <td>172</td>\n",
       "      <td>2</td>\n",
       "      <td>137</td>\n",
       "      <td>216</td>\n",
       "      <td>31</td>\n",
       "      <td>8.266667</td>\n",
       "      <td>13</td>\n",
       "      <td>1</td>\n",
       "      <td>0</td>\n",
       "      <td>3</td>\n",
       "      <td>1.449411</td>\n",
       "      <td>-0.577963</td>\n",
       "      <td>1.525351</td>\n",
       "      <td>-0.577963</td>\n",
       "    </tr>\n",
       "    <tr>\n",
       "      <th>4</th>\n",
       "      <td>4</td>\n",
       "      <td>184</td>\n",
       "      <td>2</td>\n",
       "      <td>49</td>\n",
       "      <td>72</td>\n",
       "      <td>8</td>\n",
       "      <td>3.666667</td>\n",
       "      <td>15</td>\n",
       "      <td>1</td>\n",
       "      <td>0</td>\n",
       "      <td>3</td>\n",
       "      <td>2.161090</td>\n",
       "      <td>-0.160359</td>\n",
       "      <td>0.124100</td>\n",
       "      <td>-0.160359</td>\n",
       "    </tr>\n",
       "  </tbody>\n",
       "</table>\n",
       "</div>"
      ],
      "text/plain": [
       "   Unnamed: 0  skill_point  importance  question_number  appearance_frequency  \\\n",
       "0           0          169           2               72                   238   \n",
       "1           1          170           2              115                   238   \n",
       "2           2          171           1               77                   238   \n",
       "3           3          172           2              137                   216   \n",
       "4           4          184           2               49                    72   \n",
       "\n",
       "   error_frequency       time  score  supply  study_feature  priority  \\\n",
       "0               33  27.883333     15       1              1         3   \n",
       "1               39  20.283333     15       1              1         2   \n",
       "2               57  22.683333     15       1              1         2   \n",
       "3               31   8.266667     13       1              0         3   \n",
       "4                8   3.666667     15       1              0         3   \n",
       "\n",
       "   priority_2  study_feature_2  supply_2        12  \n",
       "0    1.685091         0.575890  0.524815  0.575890  \n",
       "1    1.577549         0.702409  1.194764  0.702409  \n",
       "2    1.242338         1.031627  0.596250  1.031627  \n",
       "3    1.449411        -0.577963  1.525351 -0.577963  \n",
       "4    2.161090        -0.160359  0.124100 -0.160359  "
      ]
     },
     "execution_count": 135,
     "metadata": {},
     "output_type": "execute_result"
    }
   ],
   "source": [
    "data.head()"
   ]
  },
  {
   "cell_type": "code",
   "execution_count": 152,
   "metadata": {},
   "outputs": [
    {
     "data": {
      "text/plain": [
       "[<matplotlib.lines.Line2D at 0x117a5331b38>]"
      ]
     },
     "execution_count": 152,
     "metadata": {},
     "output_type": "execute_result"
    },
    {
     "data": {
      "image/png": "[encoded data removed]",
      "text/plain": [
       "<matplotlib.figure.Figure at 0x117a5465518>"
      ]
     },
     "metadata": {},
     "output_type": "display_data"
    }
   ],
   "source": [
    "\n",
    "data_to_compare=pd.DataFrame(preprocessing.scale(data.loc[:,['priority', 'importance']]),columns=['priority', 'importance'])\n",
    "#plt.scatter(data_to_compare.iloc[:,0], data_to_compare.iloc[:,1], s=5)\n",
    "#plt.scatter(data.index,data_to_compare.iloc[:,0], s=5)\n",
    "#plt.scatter(data.index,data_to_compare.iloc[:,1], s=5)\n",
    "data_to_compare.head()\n",
    "data_to_compare['difference']=data_to_compare['priority']-data_to_compare['importance']\n",
    "plt.figure(figsize=(20,5))\n",
    "plt.plot(data_to_compare.index,data_to_compare['difference'])"
   ]
  },
  {
   "cell_type": "code",
   "execution_count": 166,
   "metadata": {},
   "outputs": [
    {
     "data": {
      "text/plain": [
       "[<matplotlib.lines.Line2D at 0x117a7293470>]"
      ]
     },
     "execution_count": 166,
     "metadata": {},
     "output_type": "execute_result"
    },
    {
     "data": {
      "image/png": "[encoded data removed]",
      "text/plain": [
       "<matplotlib.figure.Figure at 0x117a53d48d0>"
      ]
     },
     "metadata": {},
     "output_type": "display_data"
    }
   ],
   "source": [
    "min_max_scaler = preprocessing.MinMaxScaler()\n",
    "data_to_compare2 = pd.DataFrame(min_max_scaler.fit_transform(data.loc[:,['priority', 'importance']]),columns=['priority', 'importance'])\n",
    "data_to_compare2['difference']=data_to_compare2['priority']-data_to_compare2['importance']\n",
    "plt.figure(figsize=(20,5))\n",
    "plt.plot(data_to_compare2.index,data_to_compare2['difference'])"
   ]
  },
  {
   "cell_type": "code",
   "execution_count": 168,
   "metadata": {},
   "outputs": [
    {
     "data": {
      "text/plain": [
       "priority      117\n",
       "importance    117\n",
       "difference    117\n",
       "dtype: int64"
      ]
     },
     "execution_count": 168,
     "metadata": {},
     "output_type": "execute_result"
    }
   ],
   "source": [
    "data_to_compare2[data_to_compare2['difference']==0].count()"
   ]
  },
  {
   "cell_type": "code",
   "execution_count": null,
   "metadata": {},
   "outputs": [],
   "source": []
  }
 ],
 "metadata": {
  "kernelspec": {
   "display_name": "Python 3",
   "language": "python",
   "name": "python3"
  },
  "language_info": {
   "codemirror_mode": {
    "name": "ipython",
    "version": 3
   },
   "file_extension": ".py",
   "mimetype": "text/x-python",
   "name": "python",
   "nbconvert_exporter": "python",
   "pygments_lexer": "ipython3",
   "version": "3.5.0"
  }
 },
 "nbformat": 4,
 "nbformat_minor": 2
}
